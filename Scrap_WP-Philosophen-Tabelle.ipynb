{
 "cells": [
  {
   "cell_type": "code",
   "execution_count": 67,
   "metadata": {},
   "outputs": [],
   "source": [
    "# Extrahiere Tabelle / Philosophennamen aus:\n",
    "# https://de.wikipedia.org/wiki/Zeittafel_zur_Philosophiegeschichte\n",
    "#\n",
    "# Mozilla Firefox shortcuts\n",
    "# \n",
    "# \n",
    "# Jupyter Shortcuts: 'H'\n",
    "#\n",
    "# https://www.tutorialspoint.com/python_web_scraping/python_modules_for_web_scraping.htm\n",
    "# https://www.freecodecamp.org/news/how-to-scrape-websites-with-python-2/\n",
    "# https://oxylabs.io/blog/python-web-scraping\n",
    "# https://www.freecodecamp.org/news/web-scraping-python-tutorial-how-to-scrape-data-from-a-website/\n",
    "# https://www.dataquest.io/blog/web-scraping-python-using-beautiful-soup/\n",
    "#\n",
    "# https://www.geeksforgeeks.org/parsing-tables-and-xml-with-beautifulsoup/\n",
    "# https://towardsdatascience.com/a-guide-to-scraping-html-tables-with-pandas-and-beautifulsoup-7fc24c331cf7\n",
    "#\n",
    "# https://stackoverflow.com/questions/52730839/how-do-i-change-notebookapp-iopub-data-rate-limit-for-jupyter\n",
    "#"
   ]
  },
  {
   "cell_type": "code",
   "execution_count": 68,
   "metadata": {},
   "outputs": [],
   "source": [
    "import colorama\n",
    "from colorama import Fore\n",
    "from colorama import Style\n",
    "import csv\n",
    "import locale\n",
    "import re\n",
    "import regex\n",
    "import requests\n",
    "import sys\n",
    "from bs4 import BeautifulSoup\n",
    "\n",
    "colorama.init()\n",
    "# sys.setdefaultencoding('UTF8')\n",
    "class bcolors:\n",
    "    HEADER = '\\033[95m'\n",
    "    OKBLUE = '\\033[94m'\n",
    "    OKCYAN = '\\033[96m'\n",
    "    OKGREEN = '\\033[92m'\n",
    "    WARNING = '\\033[93m'\n",
    "    FAIL = '\\033[91m'\n",
    "    ENDC = '\\033[0m'\n",
    "    BOLD = '\\033[1m'\n",
    "    UNDERLINE = '\\033[4m'\n"
   ]
  },
  {
   "cell_type": "code",
   "execution_count": 69,
   "metadata": {},
   "outputs": [
    {
     "name": "stdout",
     "output_type": "stream",
     "text": [
      "https://de.wikipedia.org/wiki/Zeittafel_zur_Philosophiegeschichte\n"
     ]
    }
   ],
   "source": [
    "web_page_address = \"https://de.wikipedia.org/wiki/Zeittafel_zur_Philosophiegeschichte\"\n",
    "print (web_page_address)"
   ]
  },
  {
   "cell_type": "code",
   "execution_count": 70,
   "metadata": {},
   "outputs": [
    {
     "name": "stdout",
     "output_type": "stream",
     "text": [
      "web_page = \t\t <Response [200]>\n",
      "web_page.status_code = \t 200\n"
     ]
    }
   ],
   "source": [
    "web_page = requests.get(web_page_address)\n",
    "print (\"web_page = \\t\\t\", web_page)\n",
    "print (\"web_page.status_code = \\t\", web_page.status_code)\n"
   ]
  },
  {
   "cell_type": "code",
   "execution_count": 71,
   "metadata": {},
   "outputs": [],
   "source": [
    "# print (\"web_page.content = \\t\", web_page.content)\n",
    "# from >timeline.xsd<\n",
    "# >add_*< keys are used internally\n",
    "event_fieldnames = (\"start\", \"end\", \"text\", \"progress\", \"fuzzy\", \"locked\", \"ends_today\", \"category\", \"description\", \"hyperlink\", \"alert\", \"icon\", \"default_color\", \"milestone\")\n",
    "\n",
    "additional_event_fieldnames = (\"add_start_vCh\", \"add_end_vCh\", \"add_start_end_ok\", \"add_mods\", \"add_ok\")\n",
    "\n",
    "extended_event_fieldnames = []\n",
    "for item in event_fieldnames:\n",
    "    extended_event_fieldnames.append(item)\n",
    "for item in additional_event_fieldnames:\n",
    "    extended_event_fieldnames.append(item)\n",
    "extended_event_fieldnames = tuple(extended_event_fieldnames)\n",
    "\n",
    "# https://stackoverflow.com/questions/16730339/python-add-item-to-the-tuple\n",
    "def csv_event_file_header_get():\n",
    "    event_header = []\n",
    "    for item in event_fieldnames:\n",
    "        event_header.append(item)\n",
    "    event_header = tuple(event_header)\n",
    "    return event_header\n"
   ]
  },
  {
   "cell_type": "code",
   "execution_count": 72,
   "metadata": {},
   "outputs": [],
   "source": [
    "soup = BeautifulSoup(web_page.content, 'html.parser')\n",
    "# print(soup.prettify())"
   ]
  },
  {
   "cell_type": "code",
   "execution_count": 73,
   "metadata": {},
   "outputs": [],
   "source": [
    "bs4_table = soup.find('table', class_='wikitable toptextcells')\n",
    "# print (type(bs4_table))"
   ]
  },
  {
   "cell_type": "code",
   "execution_count": 74,
   "outputs": [],
   "source": [
    "def test_write_csv_with_header_file():\n",
    "    fn = 'csv_tst.csv'\n",
    "    # with open(sys.argv[1], 'wt') as f:\n",
    "    with open(fn, 'wt') as f:\n",
    "        writer = csv.writer(f)\n",
    "        csv_event_file_header = csv_event_file_header_get()\n",
    "        writer.writerow(csv_event_file_header)\n",
    "        for i in range(8):\n",
    "            row = []\n",
    "            for i in range(len(csv_event_file_header)):\n",
    "                row.append(str(i))\n",
    "            row = tuple(row)\n",
    "            writer.writerow(row )\n",
    "\n",
    "    # print(open(sys.argv[1], 'rt').read())    pass\n",
    "    print (' -------------------')\n",
    "    # print(open(fn, 'rt').read())"
   ],
   "metadata": {
    "collapsed": false,
    "pycharm": {
     "name": "#%%\n"
    }
   }
  },
  {
   "cell_type": "code",
   "execution_count": 75,
   "outputs": [
    {
     "name": "stdout",
     "output_type": "stream",
     "text": [
      " -------------------\n"
     ]
    }
   ],
   "source": [
    "test_write_csv_with_header_file()"
   ],
   "metadata": {
    "collapsed": false,
    "pycharm": {
     "name": "#%%\n"
    }
   }
  },
  {
   "cell_type": "code",
   "execution_count": 76,
   "outputs": [],
   "source": [
    "def csv_event_make():\n",
    "    pass"
   ],
   "metadata": {
    "collapsed": false,
    "pycharm": {
     "name": "#%%\n"
    }
   }
  },
  {
   "cell_type": "code",
   "execution_count": 77,
   "outputs": [],
   "source": [
    "def new_d_event_philosopher():\n",
    "    # return dictionary with keys according to event_fieldnames in >timeline.xsd<\n",
    "    # all values are preset = ''\n",
    "    d_event_philosopher = {}\n",
    "    for cnt, event_fieldname in enumerate (extended_event_fieldnames):\n",
    "        d_event_philosopher[event_fieldname] = ''\n",
    "    # d_event_philosopher[\"start\"] = '*'\n",
    "    # d_event_philosopher[\"end\"] = '*'\n",
    "    return d_event_philosopher"
   ],
   "metadata": {
    "collapsed": false,
    "pycharm": {
     "name": "#%%\n"
    }
   }
  },
  {
   "cell_type": "code",
   "execution_count": 78,
   "outputs": [],
   "source": [
    "def adjust_philosopher_name(td_item):\n",
    "    philosopher_name = '?'\n",
    "    if td_item.a:\n",
    "        philosoph_full_name = td_item.a.string                 # Name\n",
    "        if ( ' von ' in philosoph_full_name) or  ( ' der ' in philosoph_full_name):\n",
    "            philosopher_name = philosoph_full_name\n",
    "        else:\n",
    "            philosopher_name = philosoph_full_name.split(' ')[-1]\n",
    "            if philosoph_full_name.split(' ')[:-1]:\n",
    "                philosopher_name = philosopher_name + ', '\n",
    "            for ele in philosoph_full_name.split(' ')[:-1]:\n",
    "                philosopher_name = philosopher_name + ele + ' '\n",
    "    return philosopher_name"
   ],
   "metadata": {
    "collapsed": false,
    "pycharm": {
     "name": "#%%\n"
    }
   }
  },
  {
   "cell_type": "code",
   "execution_count": 79,
   "outputs": [],
   "source": [
    "def check_lifespan_era(philosoph_lifespan, d_event_philosopher):\n",
    "    # eruiert ob vor oder nach Christus\n",
    "    # setzt entsprechende Felder im dict >d_event_philosopher<\n",
    "\n",
    "    # vor_Chr  = re.search('v\\. Chr\\.', philosoph_lifespan)\n",
    "    philosoph_lifespan_org = philosoph_lifespan\n",
    "    vor_Chr_str = 'v\\. Chr\\.'\n",
    "    vor_Chr  = re.search(vor_Chr_str, philosoph_lifespan)\n",
    "\n",
    "    # nach_Chr = re.search('n\\. Chr\\.', philosoph_lifespan)\n",
    "    nach_Chr_str = 'n\\. Chr\\.'\n",
    "    nach_Chr = re.search(nach_Chr_str, philosoph_lifespan)\n",
    "\n",
    "    if vor_Chr and nach_Chr:\n",
    "        d_event_philosopher['add_start_vCh'] = 'True'\n",
    "        philosoph_lifespan = re.sub(vor_Chr_str, \"\", philosoph_lifespan).strip()\n",
    "        d_event_philosopher['add_end_vCh']   = 'False'\n",
    "        philosoph_lifespan = re.sub(nach_Chr_str, \"\", philosoph_lifespan).strip()\n",
    "        d_event_philosopher['add_mods'] += 'vor_Chr and nach_Chr'\n",
    "        # print ('check_lifespan_era (vor_Chr and nach_Chr): vorher', philosoph_lifespan_org, ':  -->>  : > ', philosoph_lifespan)\n",
    "    elif (len(re.findall('v\\. Chr\\.', philosoph_lifespan)) >= 1):\n",
    "        d_event_philosopher['add_start_vCh'] = 'True'\n",
    "        philosoph_lifespan = re.sub(vor_Chr_str, \"\", philosoph_lifespan).strip()\n",
    "        d_event_philosopher['add_end_vCh']   = 'True'\n",
    "        philosoph_lifespan = re.sub(vor_Chr_str, \"\", philosoph_lifespan).strip()\n",
    "        d_event_philosopher['add_mods'] += 'vor_Chr'\n",
    "        # print ('check_lifespan_era (vor_Chr): vorher', philosoph_lifespan_org, ':  -->>  : > ', philosoph_lifespan)\n",
    "    return philosoph_lifespan, d_event_philosopher"
   ],
   "metadata": {
    "collapsed": false,
    "pycharm": {
     "name": "#%%\n"
    }
   }
  },
  {
   "cell_type": "code",
   "execution_count": 80,
   "outputs": [],
   "source": [
    "def modify_lifespan(substring, philosoph_lifespan, d_event_philosopher, comment):\n",
    "    # corrects string by deleting >substring< in string >philosoph_lifespan<\n",
    "    # ... if substring is present. (i.e. >n. Chr.<, >Jh.<, etc)\n",
    "    # Usually this means, that lifespan is not exactly known\n",
    "    # - a correspondig flag ('fuzzy') is set.\n",
    "    # - a 'comment' string is returned, to indicate the change.\n",
    "    found = re.search(substring, philosoph_lifespan)\n",
    "    if found:\n",
    "        comment += ', ' + substring\n",
    "        philosoph_lifespan = re.sub(substring, \"\", philosoph_lifespan).strip()\n",
    "        d_event_philosopher['add_mods'] = d_event_philosopher['add_mods']  + ', ' + substring\n",
    "    return philosoph_lifespan, d_event_philosopher, comment"
   ],
   "metadata": {
    "collapsed": false,
    "pycharm": {
     "name": "#%%\n"
    }
   }
  },
  {
   "cell_type": "code",
   "execution_count": 81,
   "outputs": [],
   "source": [
    "def vChr_set_negative(d_event_philosopher):\n",
    "    if ((d_event_philosopher['start'] != '?') and d_event_philosopher['add_start_vCh']):\n",
    "        d_event_philosopher['start'] = '-' + d_event_philosopher['start']\n",
    "    if ((d_event_philosopher['end'] != '?') and d_event_philosopher['add_end_vCh']):\n",
    "        d_event_philosopher['end'] = '-' + d_event_philosopher['end']\n",
    "    return d_event_philosopher"
   ],
   "metadata": {
    "collapsed": false,
    "pycharm": {
     "name": "#%%\n"
    }
   }
  },
  {
   "cell_type": "code",
   "execution_count": 82,
   "outputs": [],
   "source": [
    "cnt = 1\n",
    "def adjust_philosoph_lifespan (philosopher_lifespan, d_event_philosopher):\n",
    "    global cnt\n",
    "\n",
    "    d_event_philosopher['start'] = '?'\n",
    "    d_event_philosopher['end']   = '?'\n",
    "    d_event_philosopher['fuzzy'] = ''\n",
    "    comment = ''\n",
    "\n",
    "    philosopher_lifespan = philosopher_lifespan.strip()\n",
    "    p_l_span_org       = philosopher_lifespan\n",
    "\n",
    "    philosopher_lifespan, d_event_philosopher = check_lifespan_era(philosopher_lifespan, d_event_philosopher)\n",
    "\n",
    "    substrings = [u\"um\", u\"vor\", u\"† nach\", u\"†\", u\"unsicher\", \"\\*\", u\"Jh\\.\", u\"Jahrhundert\" ]\n",
    "    for substring in substrings:\n",
    "        philosopher_lifespan, d_event_philosopher, comment = \\\n",
    "            modify_lifespan(substring, philosopher_lifespan, d_event_philosopher, comment)\n",
    "\n",
    "    add_mods = d_event_philosopher['add_mods']\n",
    "    if (u\"um\" in add_mods) or (u\"vor\" in add_mods) :\n",
    "        d_event_philosopher['fuzzy']   = 'True'\n",
    "\n",
    "    philosopher_lifespan = philosopher_lifespan.strip()\n",
    "\n",
    "    # \"YYYY-YYYY\" oder \"YYYY\"\n",
    "    search_substring_from_Y_to_Y = u\"\\d{1,4}–\\d{1,4}$\"\n",
    "    search_substring_Y = u\"\\d{1,4}$\"\n",
    "    substring = search_substring_from_Y_to_Y\n",
    "    if regex.match(substring, philosopher_lifespan):\n",
    "        years = regex.findall(u\"\\d{1,4}\", philosopher_lifespan)\n",
    "        d_event_philosopher['start']    = years[0]\n",
    "        d_event_philosopher['end']      = years[1]\n",
    "        d_event_philosopher['add_ok']   = 'ok'\n",
    "        d_event_philosopher['add_mods'] += ', ' + substring\n",
    "        comment += u\", \" + substring\n",
    "    else:\n",
    "        substring = search_substring_Y\n",
    "        if regex.search(substring, philosopher_lifespan):\n",
    "            years = regex.findall(u\"\\d{1,4}\", philosopher_lifespan)\n",
    "            if u'†' in d_event_philosopher['add_mods']:\n",
    "                d_event_philosopher['end']   = years[0]\n",
    "                d_event_philosopher['add_ok']   = 'ok'\n",
    "            else:\n",
    "                d_event_philosopher['start'] = years[0]\n",
    "                if u'*' in d_event_philosopher['add_mods']:\n",
    "                    d_event_philosopher['end']   = 'alive'\n",
    "                    d_event_philosopher['add_ok']   = 'ok'\n",
    "        d_event_philosopher['add_mods'] = d_event_philosopher['add_mods']  + ', ' + substring\n",
    "        comment += u\", \" + substring\n",
    "\n",
    "    # vor_Chr => \"YYYY\" -> \"-YYYY\"\n",
    "    d_event_philosopher = vChr_set_negative(d_event_philosopher)\n",
    "\n",
    "    # d_event_philosopher['fuzzy']  == um YYYY\n",
    "    if d_event_philosopher['fuzzy'] == 'True':\n",
    "        if search_substring_from_Y_to_Y in d_event_philosopher['add_mods']:\n",
    "            pass\n",
    "        elif search_substring_Y in d_event_philosopher['add_mods']:\n",
    "            # i.e. nur Todesjahr\n",
    "            try:\n",
    "                akme = int (d_event_philosopher['start'])\n",
    "                # if d_event_philosopher['add_start_vCh']:\n",
    "                #     d_event_philosopher['start'] = str(akme - 50)\n",
    "                #     d_event_philosopher['end'] = str(akme + 15)\n",
    "                d_event_philosopher['start'] = str(akme - 50)\n",
    "                d_event_philosopher['end'] = str(akme + 15)\n",
    "                d_event_philosopher['add_ok']   = 'ok'\n",
    "            except:\n",
    "                pass\n",
    "\n",
    "    ph_lifespan = philosopher_lifespan\n",
    "    # if ((d_event_philosopher['start'] == '?') or (d_event_philosopher['end'] == '?')):\n",
    "    if (d_event_philosopher['add_ok']   != 'ok'):\n",
    "        print ('>{:3d}: '.format(cnt), '{:25}'.format(p_l_span_org), '=>', '{:25}'.format(ph_lifespan) , ' :: '     ,\\\n",
    "               '{:6}'.format(d_event_philosopher['start'])        , '{:6}'.format(d_event_philosopher['end']), ' | ' ,\\\n",
    "               '{:6}'.format(d_event_philosopher['add_start_vCh']), '{:6}'.format(d_event_philosopher['add_end_vCh']), ' | ',\\\n",
    "               '{:10}'.format(d_event_philosopher['fuzzy']))\n",
    "        print ('   add_mods == >' + d_event_philosopher['add_mods'] + '<\\n')\n",
    "        # print(Fore.YELLOW + \"This is the color of the sun\" + Style.RESET_ALL)\n",
    "        # print(f\"{bcolors.WARNING}\n",
    "        cnt = cnt + 1\n",
    "    return philosopher_lifespan, d_event_philosopher['fuzzy']"
   ],
   "metadata": {
    "collapsed": false,
    "pycharm": {
     "name": "#%%\n"
    }
   }
  },
  {
   "cell_type": "code",
   "execution_count": 83,
   "metadata": {
    "pycharm": {
     "name": "#%%\n"
    }
   },
   "outputs": [
    {
     "name": "stdout",
     "output_type": "stream",
     "text": [
      ">  1:  unsicher  v. Chr.         =>                            ::  ?      ?       |  True   True    |  True      \n",
      "   add_mods == >vor_Chr, unsicher, \\d{1,4}$<\n",
      "\n",
      ">  2:  5. Jh. v. Chr.            => 5.                         ::  ?      ?       |  True   True    |  True      \n",
      "   add_mods == >vor_Chr, Jh\\., \\d{1,4}$<\n",
      "\n",
      ">  3:  5.–4. Jh. v. Chr.         => 5.–4.                      ::  ?      ?       |  True   True    |  True      \n",
      "   add_mods == >vor_Chr, Jh\\., \\d{1,4}$<\n",
      "\n",
      ">  4:  5. Jh. v. Chr.            => 5.                         ::  ?      ?       |  True   True    |  True      \n",
      "   add_mods == >vor_Chr, Jh\\., \\d{1,4}$<\n",
      "\n",
      ">  5:  unsicher (5. Jh.) v. Chr. => (5. )                      ::  ?      ?       |  True   True    |  True      \n",
      "   add_mods == >vor_Chr, unsicher, Jh\\., \\d{1,4}$<\n",
      "\n",
      ">  6:  um 300 v. Chr             => 300 v. Chr                 ::  ?      ?       |                 |  True      \n",
      "   add_mods == >, um, \\d{1,4}$<\n",
      "\n",
      ">  7:  3. Jh. v. Chr.            => 3.                         ::  ?      ?       |  True   True    |  True      \n",
      "   add_mods == >vor_Chr, Jh\\., \\d{1,4}$<\n",
      "\n",
      ">  8:  4. Jh. v. Chr.            => 4.                         ::  ?      ?       |  True   True    |  True      \n",
      "   add_mods == >vor_Chr, Jh\\., \\d{1,4}$<\n",
      "\n",
      ">  9:  4.–3. Jh. v. Chr.         => 4.–3.                      ::  ?      ?       |  True   True    |  True      \n",
      "   add_mods == >vor_Chr, Jh\\., \\d{1,4}$<\n",
      "\n",
      "> 10:  4.–3. Jh. v. Chr.         => 4.–3.                      ::  ?      ?       |  True   True    |  True      \n",
      "   add_mods == >vor_Chr, Jh\\., \\d{1,4}$<\n",
      "\n",
      "> 11:  † 84/83 v. Chr            => 84/83 v. Chr               ::  ?      ?       |                 |            \n",
      "   add_mods == >, †, \\d{1,4}$<\n",
      "\n",
      "> 12:  unsicher v. Chr.          =>                            ::  ?      ?       |  True   True    |  True      \n",
      "   add_mods == >vor_Chr, unsicher, \\d{1,4}$<\n",
      "\n",
      "> 13:  unsicher v. Chr.          =>                            ::  ?      ?       |  True   True    |  True      \n",
      "   add_mods == >vor_Chr, unsicher, \\d{1,4}$<\n",
      "\n",
      "> 14:  unsicher v. Chr.          =>                            ::  ?      ?       |  True   True    |  True      \n",
      "   add_mods == >vor_Chr, unsicher, \\d{1,4}$<\n",
      "\n",
      "> 15:  3. Jh. v. Chr.            => 3.                         ::  ?      ?       |  True   True    |  True      \n",
      "   add_mods == >vor_Chr, Jh\\., \\d{1,4}$<\n",
      "\n",
      "> 16:  1. Jh. v. Chr.            => 1.                         ::  ?      ?       |  True   True    |  True      \n",
      "   add_mods == >vor_Chr, Jh\\., \\d{1,4}$<\n",
      "\n",
      "> 17:  2. Jh. v. Chr.            => 2.                         ::  ?      ?       |  True   True    |  True      \n",
      "   add_mods == >vor_Chr, Jh\\., \\d{1,4}$<\n",
      "\n",
      "> 18:  2. oder 3. Jh. v. Chr.    => 2. oder 3.                 ::  ?      ?       |  True   True    |  True      \n",
      "   add_mods == >vor_Chr, Jh\\., \\d{1,4}$<\n",
      "\n",
      "> 19:  5. Jh. v. Chr.            => 5.                         ::  ?      ?       |  True   True    |  True      \n",
      "   add_mods == >vor_Chr, Jh\\., \\d{1,4}$<\n",
      "\n",
      "> 20:  2. Jh. v. Chr.            => 2.                         ::  ?      ?       |  True   True    |  True      \n",
      "   add_mods == >vor_Chr, Jh\\., \\d{1,4}$<\n",
      "\n",
      "> 21:  3. oder 2. Jh. v. Chr.    => 3. oder 2.                 ::  ?      ?       |  True   True    |  True      \n",
      "   add_mods == >vor_Chr, Jh\\., \\d{1,4}$<\n",
      "\n",
      "> 22:  1. Jh. v. Chr./1. Jh. n. Chr. => 1.  /1.                    ::  ?      ?       |  True   False   |  True      \n",
      "   add_mods == >vor_Chr and nach_Chr, Jh\\., \\d{1,4}$<\n",
      "\n",
      "> 23:  1. Jh. v. Chr.            => 1.                         ::  ?      ?       |  True   True    |  True      \n",
      "   add_mods == >vor_Chr, Jh\\., \\d{1,4}$<\n",
      "\n",
      "> 24:  unsicher                  =>                            ::  ?      ?       |                 |            \n",
      "   add_mods == >, unsicher, \\d{1,4}$<\n",
      "\n",
      "> 25:  2. Jh.                    => 2.                         ::  ?      ?       |                 |            \n",
      "   add_mods == >, Jh\\., \\d{1,4}$<\n",
      "\n",
      "> 26:  2. Jh.                    => 2.                         ::  ?      ?       |                 |            \n",
      "   add_mods == >, Jh\\., \\d{1,4}$<\n",
      "\n",
      "> 27:  2. Jh.                    => 2.                         ::  ?      ?       |                 |            \n",
      "   add_mods == >, Jh\\., \\d{1,4}$<\n",
      "\n",
      "> 28:  150 bis nach 215          => 150 bis nach 215           ::  150    ?       |                 |            \n",
      "   add_mods == >, \\d{1,4}$<\n",
      "\n",
      "> 29:  185–253 oder 254          => 185–253 oder 254           ::  185    ?       |                 |            \n",
      "   add_mods == >, \\d{1,4}$<\n",
      "\n",
      "> 30:  5. Jh.                    => 5.                         ::  ?      ?       |                 |            \n",
      "   add_mods == >, Jh\\., \\d{1,4}$<\n",
      "\n",
      "> 31:  6. Jh.                    => 6.                         ::  ?      ?       |                 |            \n",
      "   add_mods == >, Jh\\., \\d{1,4}$<\n",
      "\n",
      "> 32:  6. Jahrhundert            => 6.                         ::  ?      ?       |                 |            \n",
      "   add_mods == >, Jahrhundert, \\d{1,4}$<\n",
      "\n",
      "> 33:  unsicher                  =>                            ::  ?      ?       |                 |            \n",
      "   add_mods == >, unsicher, \\d{1,4}$<\n",
      "\n",
      "> 34:  2. Jh.                    => 2.                         ::  ?      ?       |                 |            \n",
      "   add_mods == >, Jh\\., \\d{1,4}$<\n",
      "\n",
      "> 35:  unsicher                  =>                            ::  ?      ?       |                 |            \n",
      "   add_mods == >, unsicher, \\d{1,4}$<\n",
      "\n",
      "> 36:  unsicher                  =>                            ::  ?      ?       |                 |            \n",
      "   add_mods == >, unsicher, \\d{1,4}$<\n",
      "\n",
      "> 37:  unsicher                  =>                            ::  ?      ?       |                 |            \n",
      "   add_mods == >, unsicher, \\d{1,4}$<\n",
      "\n",
      "> 38:  um 100–200 n. Chr.        => 100–200 n. Chr.            ::  ?      ?       |                 |  True      \n",
      "   add_mods == >, um, \\d{1,4}$<\n",
      "\n",
      "> 39:  um 250–350 n. Chr.        => 250–350 n. Chr.            ::  ?      ?       |                 |  True      \n",
      "   add_mods == >, um, \\d{1,4}$<\n",
      "\n",
      "> 40:  um 420–500 n. Chr.        => 420–500 n. Chr.            ::  ?      ?       |                 |  True      \n",
      "   add_mods == >, um, \\d{1,4}$<\n",
      "\n",
      "> 41:  um 420–500 n. Chr.        => 420–500 n. Chr.            ::  ?      ?       |                 |  True      \n",
      "   add_mods == >, um, \\d{1,4}$<\n",
      "\n",
      "> 42:  7. Jh.                    => 7.                         ::  ?      ?       |                 |            \n",
      "   add_mods == >, Jh\\., \\d{1,4}$<\n",
      "\n",
      "> 43:  216–276 oder 277          => 216–276 oder 277           ::  216    ?       |                 |            \n",
      "   add_mods == >, \\d{1,4}$<\n",
      "\n",
      "> 44:  unsicher                  =>                            ::  ?      ?       |                 |            \n",
      "   add_mods == >, unsicher, \\d{1,4}$<\n",
      "\n",
      "> 45:  260 oder 264–337 oder 340 => 260 oder 264–337 oder 340  ::  260    ?       |                 |            \n",
      "   add_mods == >, \\d{1,4}$<\n",
      "\n",
      "> 46:  12. Jh.                   => 12.                        ::  ?      ?       |                 |            \n",
      "   add_mods == >, Jh\\., \\d{1,4}$<\n",
      "\n",
      "> 47:  gest. 1151                => gest. 1151                 ::  1151   ?       |                 |            \n",
      "   add_mods == >, \\d{1,4}$<\n",
      "\n",
      "> 48:  verm. 1175–1245           => verm. 1175–1245            ::  1175   ?       |                 |            \n",
      "   add_mods == >, \\d{1,4}$<\n",
      "\n",
      "> 49:  1274 oder 1275–nach 1344  => 1274 oder 1275–nach 1344   ::  1274   ?       |                 |            \n",
      "   add_mods == >, \\d{1,4}$<\n",
      "\n",
      "> 50:  verm. –1420               => verm. –1420                ::  1420   ?       |                 |            \n",
      "   add_mods == >, \\d{1,4}$<\n",
      "\n",
      "> 51:  1250/1260–1310            => 1250/1260–1310             ::  1250   ?       |                 |            \n",
      "   add_mods == >, \\d{1,4}$<\n",
      "\n",
      "> 52:  ca. 1406–1457             => ca. 1406–1457              ::  1406   ?       |                 |            \n",
      "   add_mods == >, \\d{1,4}$<\n",
      "\n",
      "> 53:  1395–1472/1484            => 1395–1472/1484             ::  1395   ?       |                 |            \n",
      "   add_mods == >, \\d{1,4}$<\n",
      "\n",
      "> 54:  1624 getauft -1677        => 1624 getauft -1677         ::  1624   ?       |                 |            \n",
      "   add_mods == >, \\d{1,4}$<\n",
      "\n"
     ]
    }
   ],
   "source": [
    "row_cnt = 0\n",
    "\n",
    "act_h2  = ''   # Epoche\n",
    "act_h3  = ''   # Unterepoche\n",
    "act_h4  = ''   # Unter-Unterepoche\n",
    "\n",
    "old_h2  = ''\n",
    "old_h3  = ''\n",
    "old_h4  = ''\n",
    "\n",
    "# lo == list of : event == philosopher\n",
    "lo_d_event_philosopher  = []\n",
    "d_event_philosopher     = new_d_event_philosopher()\n",
    "d_event_philosoph_cnt   = 0\n",
    "\n",
    "# cycle rows in table:\n",
    "for bs4_row in bs4_table.find_all('tr'):\n",
    "    # print (type(bs4_row))   # type == <class 'bs4.element.Tag'>\n",
    "    bs4_row_text = BeautifulSoup(bs4_row.get_text())  # get_text() == 'converts' type to string, sort of\n",
    "    row_cnt += 1\n",
    "    # https://stackoverflow.com/questions/13853025/is-there-a-way-in-beautiful-soup-to-count-the-number-of-tags-in-a-html-page\n",
    "    td_columns = len (bs4_row.find_all('td'))\n",
    "\n",
    "    # 1 column in row == Epoche / Unterepoche / Unter-Unterepoche == Headline of span\n",
    "    if (td_columns == 1):\n",
    "        if bs4_row.find_all('h2'):\n",
    "            try:\n",
    "                act_h2 = bs4_row.find_all('span', class_='mw-headline')[0].string\n",
    "                category = act_h2\n",
    "            except:  pass\n",
    "        elif bs4_row.find_all('h3'):\n",
    "            try:\n",
    "                act_h3 = bs4_row.find_all('span', class_='mw-headline')[0].string\n",
    "                category = act_h2 + ' - ' + act_h3\n",
    "            except: pass\n",
    "        elif bs4_row.find_all('h4'):\n",
    "            try:\n",
    "                act_h4 = bs4_row.find_all('span', class_='mw-headline')[0].string\n",
    "                category = act_h2  + ' - ' + act_h3  + ' - ' + act_h4\n",
    "            except: pass\n",
    "        # print ('category =  ', category)\n",
    "\n",
    "    elif (td_columns == 4) :\n",
    "        d_event_philosopher     = new_d_event_philosopher()\n",
    "        philosoph_lifespan      = None\n",
    "\n",
    "        # cycle 4 columns in row:  'Periode' / 'Philosoph' (Name) / 'Philosophie' (Thesen) / 'Allgemeine Geschichte'\n",
    "        for td_cnt, td_item in enumerate (bs4_row.find_all('td')):\n",
    "            if   (td_cnt == 0) and (td_item.string):                               #  'Periode'\n",
    "                philosoph_lifespan = adjust_philosoph_lifespan (td_item.string, d_event_philosopher)\n",
    "            elif (td_cnt == 1) and (td_item.a.string):                             #  'Philosoph' (Name)\n",
    "                philosopher_name = adjust_philosopher_name(td_item)\n",
    "                d_event_philosoph_cnt += 1\n",
    "                try:\n",
    "                    philosoph_lifespan = philosoph_lifespan.string.replace(\"\\n\", \" \")\n",
    "                except:\n",
    "                    philosoph_lifespan = '???? '\n",
    "            elif (td_cnt == 2) and (td_item):                                      #  'Philosophie' (Thesen)\n",
    "                philosopher_lo_theories = []\n",
    "                for li_cnt, li_item in enumerate (td_item.find_all('li')):\n",
    "                    philosopher_lo_theories.append(li_item.text)\n",
    "            elif (td_cnt == 3) and (td_item):                                      #  'Allgemeine Geschichte'\n",
    "                # philosopher_lo_history = td_item.text\n",
    "                philosopher_lo_history = []\n",
    "                for li_cnt, li_item in enumerate (td_item.find_all('li')):\n",
    "                    philosopher_lo_history.append(li_item.text)\n",
    "\n",
    "                line_new  = '{:>35}      {}    {}  '.format(philosoph_lifespan, philosopher_name, philosopher_lo_theories)\n",
    "                # print (d_event_philosoph_cnt, ': ', line_new)\n",
    "\n",
    "                # philosopher.lifespan = philosoph_lifespan\n",
    "\n",
    "\n",
    "    # lo_d_event_philosopher.append(philosopher)\n",
    "\n"
   ]
  }
 ],
 "metadata": {
  "kernelspec": {
   "display_name": "Python 3",
   "language": "python",
   "name": "python3"
  },
  "language_info": {
   "codemirror_mode": {
    "name": "ipython",
    "version": 3
   },
   "file_extension": ".py",
   "mimetype": "text/x-python",
   "name": "python",
   "nbconvert_exporter": "python",
   "pygments_lexer": "ipython3",
   "version": "3.8.8"
  }
 },
 "nbformat": 4,
 "nbformat_minor": 2
}