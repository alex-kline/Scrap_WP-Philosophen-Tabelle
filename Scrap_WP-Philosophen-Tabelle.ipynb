{
 "cells": [
  {
   "cell_type": "code",
   "execution_count": 72,
   "metadata": {},
   "outputs": [],
   "source": [
    "# Extrahiere Tabelle / Philosophennamen aus:\n",
    "# https://de.wikipedia.org/wiki/Zeittafel_zur_Philosophiegeschichte\n",
    "#\n",
    "# Mozilla Firefox shortcuts\n",
    "# \n",
    "# \n",
    "# Jupyter Shortcuts: 'H'\n",
    "#\n",
    "# https://www.tutorialspoint.com/python_web_scraping/python_modules_for_web_scraping.htm\n",
    "# https://www.freecodecamp.org/news/how-to-scrape-websites-with-python-2/\n",
    "# https://oxylabs.io/blog/python-web-scraping\n",
    "# https://www.freecodecamp.org/news/web-scraping-python-tutorial-how-to-scrape-data-from-a-website/\n",
    "# https://www.dataquest.io/blog/web-scraping-python-using-beautiful-soup/\n",
    "#\n",
    "# https://www.geeksforgeeks.org/parsing-tables-and-xml-with-beautifulsoup/\n",
    "# https://towardsdatascience.com/a-guide-to-scraping-html-tables-with-pandas-and-beautifulsoup-7fc24c331cf7\n",
    "#\n",
    "# https://stackoverflow.com/questions/52730839/how-do-i-change-notebookapp-iopub-data-rate-limit-for-jupyter\n",
    "#"
   ]
  },
  {
   "cell_type": "code",
   "execution_count": 73,
   "metadata": {},
   "outputs": [],
   "source": [
    "import csv\n",
    "import re\n",
    "import regex\n",
    "import requests\n",
    "import os\n",
    "from bs4 import BeautifulSoup\n"
   ]
  },
  {
   "cell_type": "code",
   "execution_count": 74,
   "metadata": {},
   "outputs": [
    {
     "name": "stdout",
     "output_type": "stream",
     "text": [
      "https://de.wikipedia.org/wiki/Zeittafel_zur_Philosophiegeschichte\n"
     ]
    }
   ],
   "source": [
    "web_page_address = \"https://de.wikipedia.org/wiki/Zeittafel_zur_Philosophiegeschichte\"\n",
    "print (web_page_address)"
   ]
  },
  {
   "cell_type": "code",
   "execution_count": 75,
   "metadata": {},
   "outputs": [
    {
     "name": "stdout",
     "output_type": "stream",
     "text": [
      "web_page = \t\t <Response [200]>\n",
      "web_page.status_code = \t 200\n"
     ]
    }
   ],
   "source": [
    "web_page = requests.get(web_page_address)\n",
    "print (\"web_page = \\t\\t\", web_page)\n",
    "print (\"web_page.status_code = \\t\", web_page.status_code)\n"
   ]
  },
  {
   "cell_type": "code",
   "execution_count": 76,
   "metadata": {},
   "outputs": [],
   "source": [
    "# print (\"web_page.content = \\t\", web_page.content)\n",
    "# from >timeline.xsd<\n",
    "event_fieldnames = (\"start\", \"end\", \"text\", \"progress\", \"fuzzy\", \"locked\", \"ends_today\", \"category\", \"description\", \"hyperlink\", \"alert\", \"icon\", \"default_color\", \"milestone\")\n",
    "\n",
    "# >add_*< keys are used internally\n",
    "additional_event_fieldnames = (\"add_lifespan_org\", \"add_start_vCh\", \"add_end_vCh\", \"add_start_end_ok\", \"add_mods\", \"add_ok\")\n",
    "\n",
    "extended_event_fieldnames = []\n",
    "for item in event_fieldnames:\n",
    "    extended_event_fieldnames.append(item)\n",
    "for item in additional_event_fieldnames:\n",
    "    extended_event_fieldnames.append(item)\n",
    "extended_event_fieldnames = tuple(extended_event_fieldnames)\n",
    "\n",
    "# https://stackoverflow.com/questions/16730339/python-add-item-to-the-tuple\n",
    "def csv_event_file_header_get():\n",
    "    event_header = []\n",
    "    for item in event_fieldnames:\n",
    "        event_header.append(item)\n",
    "    event_header = tuple(event_header)\n",
    "    return event_header\n",
    "\n",
    "soup = BeautifulSoup(web_page.content, 'html.parser')\n",
    "bs4_table = soup.find('table', class_='wikitable toptextcells')"
   ]
  },
  {
   "cell_type": "code",
   "execution_count": 77,
   "outputs": [],
   "source": [
    "def test_write_csv_with_header_file():\n",
    "    fn = 'csv_tst.csv'\n",
    "    # with open(sys.argv[1], 'wt') as f:\n",
    "    with open(fn, 'wt') as f:\n",
    "        writer = csv.writer(f)\n",
    "        csv_event_file_header = csv_event_file_header_get()\n",
    "        writer.writerow(csv_event_file_header)\n",
    "        # 8 lines\n",
    "        for i in range(8):\n",
    "            row = []\n",
    "            for i in range(len(csv_event_file_header)):\n",
    "                row.append(str(i))\n",
    "            row = tuple(row)\n",
    "            writer.writerow(row )\n",
    "\n",
    "    # print(open(sys.argv[1], 'rt').read())    pass\n",
    "    print (' -------------------')\n",
    "    # print(open(fn, 'rt').read())"
   ],
   "metadata": {
    "collapsed": false,
    "pycharm": {
     "name": "#%%\n"
    }
   }
  },
  {
   "cell_type": "code",
   "execution_count": 78,
   "outputs": [
    {
     "name": "stdout",
     "output_type": "stream",
     "text": [
      " -------------------\n"
     ]
    }
   ],
   "source": [
    "test_write_csv_with_header_file()"
   ],
   "metadata": {
    "collapsed": false,
    "pycharm": {
     "name": "#%%\n"
    }
   }
  },
  {
   "cell_type": "code",
   "execution_count": 79,
   "outputs": [],
   "source": [
    "def csv_event_make():\n",
    "    pass"
   ],
   "metadata": {
    "collapsed": false,
    "pycharm": {
     "name": "#%%\n"
    }
   }
  },
  {
   "cell_type": "code",
   "execution_count": 80,
   "outputs": [],
   "source": [
    "def new_d_event_philosopher():\n",
    "    # return dictionary with keys according to event_fieldnames in >timeline.xsd<\n",
    "    # all values are preset = ''\n",
    "    d_event_philosopher = {}\n",
    "    for cnt, event_fieldname in enumerate (extended_event_fieldnames):\n",
    "        d_event_philosopher[event_fieldname] = ''\n",
    "    # d_event_philosopher[\"start\"] = '*'\n",
    "    # d_event_philosopher[\"end\"] = '*'\n",
    "    return d_event_philosopher"
   ],
   "metadata": {
    "collapsed": false,
    "pycharm": {
     "name": "#%%\n"
    }
   }
  },
  {
   "cell_type": "code",
   "execution_count": 81,
   "outputs": [],
   "source": [
    "def adjust_philosopher_name(td_item):\n",
    "    philosopher_name = '?'\n",
    "    if td_item.a:\n",
    "        philosoph_full_name = td_item.a.string                 # Name\n",
    "        if ( ' von ' in philosoph_full_name) or  ( ' der ' in philosoph_full_name):\n",
    "            philosopher_name = philosoph_full_name\n",
    "        else:\n",
    "            philosopher_name = philosoph_full_name.split(' ')[-1]\n",
    "            if philosoph_full_name.split(' ')[:-1]:\n",
    "                philosopher_name = philosopher_name + ', '\n",
    "            for ele in philosoph_full_name.split(' ')[:-1]:\n",
    "                philosopher_name = philosopher_name + ele + ' '\n",
    "    return philosopher_name"
   ],
   "metadata": {
    "collapsed": false,
    "pycharm": {
     "name": "#%%\n"
    }
   }
  },
  {
   "cell_type": "code",
   "execution_count": 82,
   "outputs": [],
   "source": [
    "def check_lifespan_era(philosoph_lifespan, d_event_philosopher):\n",
    "    # eruiert ob vor oder nach Christus\n",
    "    # setzt entsprechende Felder im dict >d_event_philosopher<\n",
    "\n",
    "    # vor_Chr  = re.search('v\\. Chr\\.', philosoph_lifespan)\n",
    "    philosoph_lifespan_org = philosoph_lifespan\n",
    "    vor_Chr_str = 'v\\. Chr\\.'\n",
    "    vor_Chr  = re.search(vor_Chr_str, philosoph_lifespan)\n",
    "\n",
    "    # nach_Chr = re.search('n\\. Chr\\.', philosoph_lifespan)\n",
    "    nach_Chr_str = 'n\\. Chr\\.'\n",
    "    nach_Chr = re.search(nach_Chr_str, philosoph_lifespan)\n",
    "\n",
    "    if vor_Chr and nach_Chr:\n",
    "        d_event_philosopher['add_start_vCh'] = 'True'\n",
    "        philosoph_lifespan = re.sub(vor_Chr_str, \"\", philosoph_lifespan).strip()\n",
    "        d_event_philosopher['add_end_vCh']   = 'False'\n",
    "        philosoph_lifespan = re.sub(nach_Chr_str, \"\", philosoph_lifespan).strip()\n",
    "        d_event_philosopher['add_mods'] += 'vor_Chr and nach_Chr'\n",
    "        # print ('check_lifespan_era (vor_Chr and nach_Chr): vorher', philosoph_lifespan_org, ':  -->>  : > ', philosoph_lifespan)\n",
    "    elif (len(re.findall('v\\. Chr\\.', philosoph_lifespan)) >= 1):\n",
    "        d_event_philosopher['add_start_vCh'] = 'True'\n",
    "        philosoph_lifespan = re.sub(vor_Chr_str, \"\", philosoph_lifespan).strip()\n",
    "        d_event_philosopher['add_end_vCh']   = 'True'\n",
    "        philosoph_lifespan = re.sub(vor_Chr_str, \"\", philosoph_lifespan).strip()\n",
    "        d_event_philosopher['add_mods'] += 'vor_Chr'\n",
    "        # print ('check_lifespan_era (vor_Chr): vorher', philosoph_lifespan_org, ':  -->>  : > ', philosoph_lifespan)\n",
    "    return philosoph_lifespan, d_event_philosopher"
   ],
   "metadata": {
    "collapsed": false,
    "pycharm": {
     "name": "#%%\n"
    }
   }
  },
  {
   "cell_type": "code",
   "execution_count": 83,
   "outputs": [],
   "source": [
    "def modify_lifespan(substring, philosoph_lifespan, d_event_philosopher, comment):\n",
    "    # deletes >substring< in string >philosoph_lifespan<\n",
    "    # ... if substring is present. (i.e. >n. Chr.<, >Jh.<, etc)\n",
    "    # Usually this means, that lifespan is not exactly known\n",
    "    # A correspondig flag ('fuzzy') is set.\n",
    "    # A 'comment' string is returned, to indicate the change.\n",
    "    found = re.search(substring, philosoph_lifespan)\n",
    "    if found:\n",
    "        philosoph_lifespan = re.sub(substring, \"\", philosoph_lifespan).strip()\n",
    "        d_event_philosopher['add_mods'] = d_event_philosopher['add_mods']  + ', ' + substring\n",
    "        comment += ', ' + substring\n",
    "    return philosoph_lifespan, d_event_philosopher, comment"
   ],
   "metadata": {
    "collapsed": false,
    "pycharm": {
     "name": "#%%\n"
    }
   }
  },
  {
   "cell_type": "code",
   "execution_count": 84,
   "outputs": [],
   "source": [
    "def vChr_set_negative(d_event_philosopher):\n",
    "    if ((d_event_philosopher['start'] != '?') and d_event_philosopher['add_start_vCh']):\n",
    "        d_event_philosopher['start'] = '-' + d_event_philosopher['start']\n",
    "    if ((d_event_philosopher['end'] != '?') and d_event_philosopher['add_end_vCh']):\n",
    "        d_event_philosopher['end'] = '-' + d_event_philosopher['end']\n",
    "    return d_event_philosopher"
   ],
   "metadata": {
    "collapsed": false,
    "pycharm": {
     "name": "#%%\n"
    }
   }
  },
  {
   "cell_type": "code",
   "execution_count": 85,
   "outputs": [],
   "source": [
    "cnt = 1\n",
    "def adjust_philosoph_lifespan (philosopher_lifespan, d_event_philosopher):\n",
    "    global cnt\n",
    "\n",
    "    d_event_philosopher['start'] = '?'\n",
    "    d_event_philosopher['end']   = '?'\n",
    "    d_event_philosopher['fuzzy'] = ''\n",
    "    comment = ''\n",
    "\n",
    "    philosopher_lifespan = philosopher_lifespan.strip()\n",
    "    p_l_span_org         = philosopher_lifespan\n",
    "\n",
    "    philosopher_lifespan, d_event_philosopher = check_lifespan_era(philosopher_lifespan, d_event_philosopher)\n",
    "\n",
    "    if (\"bis\" in philosopher_lifespan):\n",
    "        philosopher_lifespan = philosopher_lifespan.replace(\"bis\", \"-\")\n",
    "        d_event_philosopher['add_mods'] = d_event_philosopher['add_mods']  + 'bis'\n",
    "\n",
    "    substrings = [u\"um\", u\"vor\", u\"† nach\", u\"†\", u\"unsicher\", \"\\*\", u\"Jh\\.\", u\"Jahrhundert\" ]\n",
    "    for substring in substrings:\n",
    "        philosopher_lifespan, d_event_philosopher, comment = \\\n",
    "            modify_lifespan(substring, philosopher_lifespan, d_event_philosopher, comment)\n",
    "\n",
    "    add_mods = d_event_philosopher['add_mods']\n",
    "    if (u\"um\" in add_mods) or (u\"vor\" in add_mods) :\n",
    "        d_event_philosopher['fuzzy']   = 'True'\n",
    "\n",
    "    philosopher_lifespan = philosopher_lifespan.strip()\n",
    "\n",
    "    # \"^YYYY\"  Stringanfang == Zeilenanfang\n",
    "    search_substring_Y = u\"^\\d{1,2}\\.\"\n",
    "    if (u\"Jh\\.\" in add_mods) or (u\"Jahrhundert\" in add_mods) :\n",
    "        substring = search_substring_Y\n",
    "        if regex.match(substring, philosopher_lifespan):\n",
    "            years = regex.search(u\"^\\d{1,4}\", philosopher_lifespan)\n",
    "            if years:\n",
    "                try:\n",
    "                    d_event_philosopher['start'] = str(int(years[0]) * 100)\n",
    "                    d_event_philosopher['fuzzy']   = 'True'\n",
    "                except:\n",
    "                    pass\n",
    "\n",
    "    philosopher_lifespan = philosopher_lifespan.strip()\n",
    "\n",
    "    search_substring_from_Y_to_Y = u\"\\d{1,4}–\\d{1,4}$\"\n",
    "    search_substring_Y = u\"\\d{1,4}$\"\n",
    "\n",
    "    substring = search_substring_from_Y_to_Y\n",
    "    if regex.match(substring, philosopher_lifespan):\n",
    "        years = regex.findall(u\"\\d{1,4}\", philosopher_lifespan)\n",
    "        d_event_philosopher['start']    = years[0]\n",
    "        d_event_philosopher['end']      = years[1]\n",
    "        d_event_philosopher['add_ok']   = 'ok'\n",
    "        d_event_philosopher['add_mods'] += ', ' + substring\n",
    "        comment += u\", \" + substring\n",
    "    else:\n",
    "        substring = search_substring_Y\n",
    "        if regex.search(substring, philosopher_lifespan):\n",
    "            years = regex.findall(u\"\\d{1,4}\", philosopher_lifespan)\n",
    "            if u'†' in d_event_philosopher['add_mods']:\n",
    "                d_event_philosopher['end']   = years[0]\n",
    "                d_event_philosopher['add_ok']   = 'ok'\n",
    "            else:\n",
    "                d_event_philosopher['start'] = years[0]\n",
    "                if u'*' in d_event_philosopher['add_mods']:\n",
    "                    d_event_philosopher['end']   = 'alive'\n",
    "                    d_event_philosopher['add_ok']   = 'ok'\n",
    "        d_event_philosopher['add_mods'] = d_event_philosopher['add_mods']  + ', ' + substring\n",
    "        comment += u\", \" + substring\n",
    "\n",
    "    # vor_Chr => \"YYYY\" -> \"-YYYY\"\n",
    "    d_event_philosopher = vChr_set_negative(d_event_philosopher)\n",
    "\n",
    "    # d_event_philosopher['fuzzy']  == um YYYY\n",
    "    if d_event_philosopher['fuzzy'] == 'True':\n",
    "        if search_substring_from_Y_to_Y in d_event_philosopher['add_mods']:\n",
    "            pass\n",
    "        elif search_substring_Y in d_event_philosopher['add_mods']:\n",
    "            # i.e. nur Todesjahr\n",
    "            try:\n",
    "                akme = int (d_event_philosopher['start'])\n",
    "                d_event_philosopher['start'] = str(akme - 50)\n",
    "                d_event_philosopher['end'] = str(akme + 15)\n",
    "                d_event_philosopher['add_ok']   = 'ok'\n",
    "            except:\n",
    "                pass\n",
    "\n",
    "    ph_lifespan = philosopher_lifespan\n",
    "    # if ((d_event_philosopher['start'] == '?') or (d_event_philosopher['end'] == '?')):\n",
    "    if (d_event_philosopher['add_ok']   != 'ok'):\n",
    "    # if (d_event_philosopher['fuzzy']   != 'True'):\n",
    "    # if (d_event_philosopher['fuzzy']   != 'True'):\n",
    "    # if (u\"Jh\\.\" in add_mods) or (u\"Jahrhundert\" in add_mods) :\n",
    "        print ('>{:3d}: '.format(cnt), '{:25}'.format(p_l_span_org), '=>', '{:25}'.format(ph_lifespan) , ' :: '     ,\\\n",
    "               '{:6}'.format(d_event_philosopher['start'])        , '{:6}'.format(d_event_philosopher['end']), ' | ' ,\\\n",
    "               '{:6}'.format(d_event_philosopher['add_start_vCh']), '{:6}'.format(d_event_philosopher['add_end_vCh']), ' | ',\\\n",
    "               '{:10}'.format(d_event_philosopher['fuzzy']))\n",
    "        # print ('   add_mods == >' + d_event_philosopher['add_mods'] + '<\\n')\n",
    "        # print(Fore.YELLOW + \"This is the color of the sun\" + Style.RESET_ALL)\n",
    "        # print(f\"{bcolors.WARNING}\n",
    "        cnt = cnt + 1\n",
    "    return philosopher_lifespan, d_event_philosopher['fuzzy']"
   ],
   "metadata": {
    "collapsed": false,
    "pycharm": {
     "name": "#%%\n"
    }
   }
  },
  {
   "cell_type": "code",
   "execution_count": 86,
   "metadata": {
    "pycharm": {
     "name": "#%%\n"
    }
   },
   "outputs": [
    {
     "name": "stdout",
     "output_type": "stream",
     "text": [
      ">  1:  unsicher  v. Chr.         =>                            ::  ?      ?       |  True   True    |  True      \n",
      ">  2:  unsicher (5. Jh.) v. Chr. => (5. )                      ::  ?      ?       |  True   True    |  True      \n",
      ">  3:  um 300 v. Chr             => 300 v. Chr                 ::  ?      ?       |                 |  True      \n",
      ">  4:  † 84/83 v. Chr            => 84/83 v. Chr               ::  ?      ?       |                 |            \n",
      ">  5:  unsicher v. Chr.          =>                            ::  ?      ?       |  True   True    |  True      \n",
      ">  6:  unsicher v. Chr.          =>                            ::  ?      ?       |  True   True    |  True      \n",
      ">  7:  unsicher v. Chr.          =>                            ::  ?      ?       |  True   True    |  True      \n",
      ">  8:  unsicher                  =>                            ::  ?      ?       |                 |            \n",
      ">  9:  150 bis nach 215          => 150 - nach 215             ::  150    ?       |                 |            \n",
      "> 10:  185–253 oder 254          => 185–253 oder 254           ::  185    ?       |                 |            \n",
      "> 11:  unsicher                  =>                            ::  ?      ?       |                 |            \n",
      "> 12:  unsicher                  =>                            ::  ?      ?       |                 |            \n",
      "> 13:  unsicher                  =>                            ::  ?      ?       |                 |            \n",
      "> 14:  unsicher                  =>                            ::  ?      ?       |                 |            \n",
      "> 15:  um 100–200 n. Chr.        => 100–200 n. Chr.            ::  ?      ?       |                 |  True      \n",
      "> 16:  um 250–350 n. Chr.        => 250–350 n. Chr.            ::  ?      ?       |                 |  True      \n",
      "> 17:  um 420–500 n. Chr.        => 420–500 n. Chr.            ::  ?      ?       |                 |  True      \n",
      "> 18:  um 420–500 n. Chr.        => 420–500 n. Chr.            ::  ?      ?       |                 |  True      \n",
      "> 19:  216–276 oder 277          => 216–276 oder 277           ::  216    ?       |                 |            \n",
      "> 20:  unsicher                  =>                            ::  ?      ?       |                 |            \n",
      "> 21:  260 oder 264–337 oder 340 => 260 oder 264–337 oder 340  ::  260    ?       |                 |            \n",
      "> 22:  gest. 1151                => gest. 1151                 ::  1151   ?       |                 |            \n",
      "> 23:  verm. 1175–1245           => verm. 1175–1245            ::  1175   ?       |                 |            \n",
      "> 24:  1274 oder 1275–nach 1344  => 1274 oder 1275–nach 1344   ::  1274   ?       |                 |            \n",
      "> 25:  verm. –1420               => verm. –1420                ::  1420   ?       |                 |            \n",
      "> 26:  1250/1260–1310            => 1250/1260–1310             ::  1250   ?       |                 |            \n",
      "> 27:  ca. 1406–1457             => ca. 1406–1457              ::  1406   ?       |                 |            \n",
      "> 28:  1395–1472/1484            => 1395–1472/1484             ::  1395   ?       |                 |            \n",
      "> 29:  1624 getauft -1677        => 1624 getauft -1677         ::  1624   ?       |                 |            \n"
     ]
    }
   ],
   "source": [
    "row_cnt = 0\n",
    "\n",
    "act_h2  = ''   # Epoche\n",
    "act_h3  = ''   # Unterepoche\n",
    "act_h4  = ''   # Unter-Unterepoche\n",
    "\n",
    "old_h2  = ''\n",
    "old_h3  = ''\n",
    "old_h4  = ''\n",
    "\n",
    "# lo == list of : event == philosopher\n",
    "lo_d_event_philosopher  = []\n",
    "d_event_philosopher     = new_d_event_philosopher()\n",
    "d_event_philosoph_cnt   = 0\n",
    "\n",
    "# cycle rows in table:\n",
    "for bs4_row in bs4_table.find_all('tr'):\n",
    "    # print (type(bs4_row))   # type == <class 'bs4.element.Tag'>\n",
    "    bs4_row_text = BeautifulSoup(bs4_row.get_text())  # get_text() == 'converts' type to string, sort of\n",
    "    row_cnt += 1\n",
    "    # https://stackoverflow.com/questions/13853025/is-there-a-way-in-beautiful-soup-to-count-the-number-of-tags-in-a-html-page\n",
    "    td_columns = len (bs4_row.find_all('td'))\n",
    "\n",
    "    # 1 column in row == Epoche / Unterepoche / Unter-Unterepoche == Headline of span\n",
    "    if (td_columns == 1):\n",
    "        if bs4_row.find_all('h2'):\n",
    "            try:\n",
    "                act_h2 = bs4_row.find_all('span', class_='mw-headline')[0].string\n",
    "                category = act_h2\n",
    "            except:  pass\n",
    "        elif bs4_row.find_all('h3'):\n",
    "            try:\n",
    "                act_h3 = bs4_row.find_all('span', class_='mw-headline')[0].string\n",
    "                category = act_h2 + ' - ' + act_h3\n",
    "            except: pass\n",
    "        elif bs4_row.find_all('h4'):\n",
    "            try:\n",
    "                act_h4 = bs4_row.find_all('span', class_='mw-headline')[0].string\n",
    "                category = act_h2  + ' - ' + act_h3  + ' - ' + act_h4\n",
    "            except: pass\n",
    "        # print ('category =  ', category)\n",
    "\n",
    "    elif (td_columns == 4) :\n",
    "        d_event_philosopher     = new_d_event_philosopher()\n",
    "        philosoph_lifespan      = None\n",
    "\n",
    "        # cycle 4 columns in row:  'Periode' / 'Philosoph' (Name) / 'Philosophie' (Thesen) / 'Allgemeine Geschichte'\n",
    "        for td_cnt, td_item in enumerate (bs4_row.find_all('td')):\n",
    "            if   (td_cnt == 0) and (td_item.string):                               #  'Periode'\n",
    "                philosoph_lifespan = adjust_philosoph_lifespan (td_item.string, d_event_philosopher)\n",
    "            elif (td_cnt == 1) and (td_item.a.string):                             #  'Philosoph' (Name)\n",
    "                philosopher_name = adjust_philosopher_name(td_item)\n",
    "                d_event_philosoph_cnt += 1\n",
    "                try:\n",
    "                    philosoph_lifespan = philosoph_lifespan.string.replace(\"\\n\", \" \")\n",
    "                except:\n",
    "                    philosoph_lifespan = '???? '\n",
    "            elif (td_cnt == 2) and (td_item):                                      #  'Philosophie' (Thesen)\n",
    "                philosopher_lo_theories = []\n",
    "                for li_cnt, li_item in enumerate (td_item.find_all('li')):\n",
    "                    philosopher_lo_theories.append(li_item.text)\n",
    "            elif (td_cnt == 3) and (td_item):                                      #  'Allgemeine Geschichte'\n",
    "                # philosopher_lo_history = td_item.text\n",
    "                philosopher_lo_history = []\n",
    "                for li_cnt, li_item in enumerate (td_item.find_all('li')):\n",
    "                    philosopher_lo_history.append(li_item.text)\n",
    "\n",
    "                line_new  = '{:>35}      {}    {}  '.format(philosoph_lifespan, philosopher_name, philosopher_lo_theories)\n",
    "                # print (d_event_philosoph_cnt, ': ', line_new)\n",
    "\n",
    "                # philosopher.lifespan = philosoph_lifespan\n",
    "\n",
    "\n",
    "    # lo_d_event_philosopher.append(philosopher)\n",
    "\n"
   ]
  }
 ],
 "metadata": {
  "kernelspec": {
   "display_name": "Python 3",
   "language": "python",
   "name": "python3"
  },
  "language_info": {
   "codemirror_mode": {
    "name": "ipython",
    "version": 3
   },
   "file_extension": ".py",
   "mimetype": "text/x-python",
   "name": "python",
   "nbconvert_exporter": "python",
   "pygments_lexer": "ipython3",
   "version": "3.8.8"
  }
 },
 "nbformat": 4,
 "nbformat_minor": 2
}