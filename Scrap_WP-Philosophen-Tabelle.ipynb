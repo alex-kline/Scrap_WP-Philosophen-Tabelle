{
 "cells": [
  {
   "cell_type": "code",
   "execution_count": null,
   "metadata": {},
   "outputs": [],
   "source": [
    "# Extrahiere Tabelle / Philosophennamen aus:\n",
    "# https://de.wikipedia.org/wiki/Zeittafel_zur_Philosophiegeschichte\n",
    "#\n",
    "# Mozilla Firefox shortcuts\n",
    "# \n",
    "# \n",
    "# Jupyter Shortcuts: 'H'\n",
    "#\n",
    "# https://www.tutorialspoint.com/python_web_scraping/python_modules_for_web_scraping.htm\n",
    "# https://www.freecodecamp.org/news/how-to-scrape-websites-with-python-2/\n",
    "# https://oxylabs.io/blog/python-web-scraping\n",
    "# https://www.freecodecamp.org/news/web-scraping-python-tutorial-how-to-scrape-data-from-a-website/\n",
    "# https://www.dataquest.io/blog/web-scraping-python-using-beautiful-soup/\n",
    "#\n",
    "# https://www.geeksforgeeks.org/parsing-tables-and-xml-with-beautifulsoup/\n",
    "# https://towardsdatascience.com/a-guide-to-scraping-html-tables-with-pandas-and-beautifulsoup-7fc24c331cf7\n",
    "#"
   ]
  },
  {
   "cell_type": "code",
   "execution_count": 2,
   "metadata": {},
   "outputs": [],
   "source": [
    "import sys\n",
    "import requests\n",
    "import csv\n",
    "from bs4 import BeautifulSoup\n"
   ]
  },
  {
   "cell_type": "code",
   "execution_count": 3,
   "metadata": {},
   "outputs": [
    {
     "name": "stdout",
     "output_type": "stream",
     "text": [
      "https://de.wikipedia.org/wiki/Zeittafel_zur_Philosophiegeschichte\n"
     ]
    }
   ],
   "source": [
    "web_page_address = \"https://de.wikipedia.org/wiki/Zeittafel_zur_Philosophiegeschichte\"\n",
    "print (web_page_address)"
   ]
  },
  {
   "cell_type": "code",
   "execution_count": 4,
   "metadata": {},
   "outputs": [
    {
     "name": "stdout",
     "output_type": "stream",
     "text": [
      "web_page = \t\t <Response [200]>\n",
      "web_page.status_code = \t 200\n"
     ]
    }
   ],
   "source": [
    "web_page = requests.get(web_page_address)\n",
    "print (\"web_page = \\t\\t\", web_page)\n",
    "print (\"web_page.status_code = \\t\", web_page.status_code)\n"
   ]
  },
  {
   "cell_type": "code",
   "execution_count": null,
   "metadata": {},
   "outputs": [],
   "source": [
    "# print (\"web_page.content = \\t\", web_page.content)"
   ]
  },
  {
   "cell_type": "code",
   "execution_count": 5,
   "metadata": {},
   "outputs": [],
   "source": [
    "soup = BeautifulSoup(web_page.content, 'html.parser')\n",
    "# print(soup.prettify())"
   ]
  },
  {
   "cell_type": "code",
   "execution_count": 6,
   "metadata": {},
   "outputs": [],
   "source": [
    "bs4_table = soup.find('table', class_='wikitable toptextcells')\n",
    "# print (type(bs4_table))"
   ]
  },
  {
   "cell_type": "code",
   "execution_count": 7,
   "outputs": [],
   "source": [
    "def csv_event_file_header_get():\n",
    "    event_header = (\"start\", \"end\", \"text\", \"progress\", \"fuzzy\", \"locked\", \"ends_today\", \"category\", \"description\", \"hyperlink\", \"alert\", \"icon\", \"default_color\", \"milestone\")\n",
    "    return event_header"
   ],
   "metadata": {
    "collapsed": false,
    "pycharm": {
     "name": "#%%\n"
    }
   }
  },
  {
   "cell_type": "code",
   "execution_count": 15,
   "outputs": [],
   "source": [
    "def csv_event_file_open():\n",
    "    fn = 'csv_tst.csv'\n",
    "    # with open(sys.argv[1], 'wt') as f:\n",
    "    with open(fn, 'wt') as f:\n",
    "        writer = csv.writer(f)\n",
    "        writer.writerow(csv_event_file_header_get())\n",
    "        for i in range(3):\n",
    "            row = (\n",
    "                i + 1,\n",
    "                chr(ord('a') + i),\n",
    "                '08/{:02d}/07'.format(i + 1),\n",
    "                i,\n",
    "            )\n",
    "            writer.writerow(row)\n",
    "\n",
    "    # print(open(sys.argv[1], 'rt').read())    pass\n",
    "    print(open(fn, 'rt').read())\n",
    "\n"
   ],
   "metadata": {
    "collapsed": false,
    "pycharm": {
     "name": "#%%\n"
    }
   }
  },
  {
   "cell_type": "code",
   "execution_count": 16,
   "outputs": [
    {
     "name": "stdout",
     "output_type": "stream",
     "text": [
      "start,end,text,progress,fuzzy,locked,ends_today,category,description,hyperlink,alert,icon,default_color,milestone\n",
      "\n",
      "1,a,08/01/07,0\n",
      "\n",
      "2,b,08/02/07,1\n",
      "\n",
      "3,c,08/03/07,2\n",
      "\n",
      "\n"
     ]
    }
   ],
   "source": [
    "csv_event_file_open()"
   ],
   "metadata": {
    "collapsed": false,
    "pycharm": {
     "name": "#%%\n"
    }
   }
  },
  {
   "cell_type": "code",
   "execution_count": 1,
   "outputs": [],
   "source": [
    "def csv_event_make():\n",
    "    pass"
   ],
   "metadata": {
    "collapsed": false,
    "pycharm": {
     "name": "#%%\n"
    }
   }
  },
  {
   "cell_type": "code",
   "execution_count": null,
   "metadata": {},
   "outputs": [],
   "source": [
    "row_cnt = 0\n",
    "\n",
    "lo_philosopher  = []     # lo == list of\n",
    "\n",
    "class Cl_philosopher:    # el == element\n",
    "    def __init__(self):\n",
    "        self.name        = ''     # Name\n",
    "        self.lifespan    = ''     # Lifespan\n",
    "        self.lo_works    = None   # Books etc\n",
    "        self.lo_theories = None   # Theories\n",
    "        self.lo_history  = None   # Events\n",
    "        self.cnt         = 0      # Number\n",
    "\n",
    "philosoph_cnt = 0\n",
    "\n",
    "\n",
    "for bs4_row in bs4_table.find_all('tr'):\n",
    "    # row_soup = BeautifulSoup(row, 'html.parser')\n",
    "    # print (type(row))                       # type == <class 'bs4.element.Tag'> \n",
    "    bs4_row_text = BeautifulSoup(bs4_row.get_text())  # get_text() == 'converts' type to string, sort of\n",
    "    row_cnt += 1\n",
    "    # https://stackoverflow.com/questions/13853025/is-there-a-way-in-beautiful-soup-to-count-the-number-of-tags-in-a-html-page\n",
    "    print (\"##### len(row_soup.find_all('tr')) = \", len(bs4_row_text.find_all('tr')))\n",
    "    for tag in bs4_row_text.findAll('tr'):\n",
    "        print (tag.name) # TODO: add/update dict\n",
    "    print (\"#####\")\n",
    "    print (bs4_row_text)\n",
    "    \n",
    "    #print ('len(row)= ', len(row))\n",
    "    #columns = row.find_all('td')\n",
    "    \n",
    "    # el == element\n",
    "    el_philosopher = Cl_philosopher()\n",
    "    \n",
    "    if (len(bs4_row) == 2):    # Headline of span\n",
    "        span_mw_headline = bs4_row.find_all('span', class_='mw-headline')\n",
    "        for smh in span_mw_headline:\n",
    "            print('>> ', smh.string)\n",
    "    elif (len(bs4_row) == 8) :\n",
    "        philosoph_lifespan      = None\n",
    "        philosoph_full_name     = None\n",
    "        # philosoph_full_name = None\n",
    "        # print(row_cnt, ': >>> ', str(row).replace(\"\\n\", \" \"), ' <<<') \n",
    "        for item_cnt, item in enumerate (bs4_row):\n",
    "            if item_cnt == 1:\n",
    "                # print(row_cnt, 'cnt == 1: ', str(item).replace(\"\\n\", \" \")) \n",
    "                philosoph_lifespan = item.string\n",
    "            elif item_cnt == 3:\n",
    "                # print(row_cnt, 'cnt == 3: ', str(item).replace(\"\\n\", \" \"))\n",
    "                # print('philosoph_full_name = >', philosoph_full_name, '<')\n",
    "                # philosoph_full_name = item.a \n",
    "                # if philosoph_full_name:\n",
    "                if item.a:\n",
    "                    philosoph_full_name = item.a.string                 # Name\n",
    "                    if ( ' von ' in philosoph_full_name) or \\\n",
    "                       ( ' der ' in philosoph_full_name) :\n",
    "                        # print (row_cnt, philosoph_full_name, end = '')\n",
    "                        name = philosoph_full_name\n",
    "                    else:\n",
    "                        # print(philosoph_full_name.split(' ')[-1], end = '')         # Nachname\n",
    "                        name = philosoph_full_name.split(' ')[-1]\n",
    "                        if philosoph_full_name.split(' ')[:-1]:\n",
    "                            # print(', ', end = '')\n",
    "                            name = name + ', '\n",
    "                        # [print (ele, end = ' ') for ele in philosoph_full_name.split(' ')[:-1]]  # alle Vornamen\n",
    "                        for ele in philosoph_full_name.split(' ')[:-1]:\n",
    "                            name = name + ele + ' '\n",
    "                    # print()\n",
    "                if philosoph_full_name:\n",
    "                    #print(row_cnt, '### ', philosoph_full_name)\n",
    "                    #print('--- ', philosoph_lifespan)\n",
    "                    philosoph_cnt += 1\n",
    "                    el_philosopher.name = name\n",
    "                    try:\n",
    "                        philosoph_lifespan = philosoph_lifespan.string.replace(\"\\n\", \" \")\n",
    "                    except:\n",
    "                        philosoph_lifespan = '???? '\n",
    "                    \n",
    "                    # line_new = '{:>12}  {:>12}  '.format(philosoph_lifespan, name)\n",
    "                    line_new = '{:>35}      {}  '.format(philosoph_lifespan, name)\n",
    "                    print (philosoph_cnt, ': ',line_new)\n",
    "                    \n",
    "                    el_philosopher.lifespan = philosoph_lifespan\n",
    "\n",
    "    lo_philosopher.append(el_philosopher)\n"
   ]
  },
  {
   "cell_type": "code",
   "execution_count": null,
   "metadata": {},
   "outputs": [],
   "source": []
  }
 ],
 "metadata": {
  "kernelspec": {
   "display_name": "Python 3",
   "language": "python",
   "name": "python3"
  },
  "language_info": {
   "codemirror_mode": {
    "name": "ipython",
    "version": 3
   },
   "file_extension": ".py",
   "mimetype": "text/x-python",
   "name": "python",
   "nbconvert_exporter": "python",
   "pygments_lexer": "ipython3",
   "version": "3.8.8"
  }
 },
 "nbformat": 4,
 "nbformat_minor": 2
}