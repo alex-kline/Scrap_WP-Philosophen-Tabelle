{
 "cells": [
  {
   "cell_type": "code",
   "execution_count": 72,
   "metadata": {},
   "outputs": [],
   "source": [
    "# Extrahiere Tabelle / Philosophennamen aus:\n",
    "# https://de.wikipedia.org/wiki/Zeittafel_zur_Philosophiegeschichte\n",
    "#\n",
    "# Mozilla Firefox shortcuts\n",
    "# \n",
    "# \n",
    "# Jupyter Shortcuts: 'H'\n",
    "#\n",
    "# https://www.tutorialspoint.com/python_web_scraping/python_modules_for_web_scraping.htm\n",
    "# https://www.freecodecamp.org/news/how-to-scrape-websites-with-python-2/\n",
    "# https://oxylabs.io/blog/python-web-scraping\n",
    "# https://www.freecodecamp.org/news/web-scraping-python-tutorial-how-to-scrape-data-from-a-website/\n",
    "# https://www.dataquest.io/blog/web-scraping-python-using-beautiful-soup/\n",
    "#\n",
    "# https://www.geeksforgeeks.org/parsing-tables-and-xml-with-beautifulsoup/\n",
    "# https://towardsdatascience.com/a-guide-to-scraping-html-tables-with-pandas-and-beautifulsoup-7fc24c331cf7\n",
    "#\n",
    "# https://stackoverflow.com/questions/52730839/how-do-i-change-notebookapp-iopub-data-rate-limit-for-jupyter\n",
    "#"
   ]
  },
  {
   "cell_type": "code",
   "execution_count": 73,
   "metadata": {},
   "outputs": [],
   "source": [
    "import colorama\n",
    "from colorama import Fore\n",
    "from colorama import Style\n",
    "import csv\n",
    "import locale\n",
    "import re\n",
    "import regex\n",
    "import requests\n",
    "import sys\n",
    "from bs4 import BeautifulSoup\n",
    "\n",
    "colorama.init()\n",
    "# sys.setdefaultencoding('UTF8')\n",
    "class bcolors:\n",
    "    HEADER = '\\033[95m'\n",
    "    OKBLUE = '\\033[94m'\n",
    "    OKCYAN = '\\033[96m'\n",
    "    OKGREEN = '\\033[92m'\n",
    "    WARNING = '\\033[93m'\n",
    "    FAIL = '\\033[91m'\n",
    "    ENDC = '\\033[0m'\n",
    "    BOLD = '\\033[1m'\n",
    "    UNDERLINE = '\\033[4m'\n"
   ]
  },
  {
   "cell_type": "code",
   "execution_count": 74,
   "metadata": {},
   "outputs": [
    {
     "name": "stdout",
     "output_type": "stream",
     "text": [
      "https://de.wikipedia.org/wiki/Zeittafel_zur_Philosophiegeschichte\n"
     ]
    }
   ],
   "source": [
    "web_page_address = \"https://de.wikipedia.org/wiki/Zeittafel_zur_Philosophiegeschichte\"\n",
    "print (web_page_address)"
   ]
  },
  {
   "cell_type": "code",
   "execution_count": 75,
   "metadata": {},
   "outputs": [
    {
     "name": "stdout",
     "output_type": "stream",
     "text": [
      "web_page = \t\t <Response [200]>\n",
      "web_page.status_code = \t 200\n"
     ]
    }
   ],
   "source": [
    "web_page = requests.get(web_page_address)\n",
    "print (\"web_page = \\t\\t\", web_page)\n",
    "print (\"web_page.status_code = \\t\", web_page.status_code)\n"
   ]
  },
  {
   "cell_type": "code",
   "execution_count": 76,
   "metadata": {},
   "outputs": [],
   "source": [
    "# print (\"web_page.content = \\t\", web_page.content)\n",
    "# from >timeline.xsd<\n",
    "# >add_*< keys are used internally\n",
    "event_fieldnames = (\"start\", \"end\", \"text\", \"progress\", \"fuzzy\", \"locked\", \"ends_today\", \"category\", \"description\", \"hyperlink\", \"alert\", \"icon\", \"default_color\", \"milestone\")\n",
    "\n",
    "additional_event_fieldnames = (\"add_start_vCh\", \"add_end_vCh\", \"add_start_end_ok\", \"add_mods\")\n",
    "\n",
    "extended_event_fieldnames = []\n",
    "for item in event_fieldnames:\n",
    "    extended_event_fieldnames.append(item)\n",
    "for item in additional_event_fieldnames:\n",
    "    extended_event_fieldnames.append(item)\n",
    "extended_event_fieldnames = tuple(extended_event_fieldnames)\n",
    "\n",
    "# https://stackoverflow.com/questions/16730339/python-add-item-to-the-tuple\n",
    "def csv_event_file_header_get():\n",
    "    event_header = []\n",
    "    for item in event_fieldnames:\n",
    "        event_header.append(item)\n",
    "    event_header = tuple(event_header)\n",
    "    return event_header\n"
   ]
  },
  {
   "cell_type": "code",
   "execution_count": 77,
   "metadata": {},
   "outputs": [],
   "source": [
    "soup = BeautifulSoup(web_page.content, 'html.parser')\n",
    "# print(soup.prettify())"
   ]
  },
  {
   "cell_type": "code",
   "execution_count": 78,
   "metadata": {},
   "outputs": [],
   "source": [
    "bs4_table = soup.find('table', class_='wikitable toptextcells')\n",
    "# print (type(bs4_table))"
   ]
  },
  {
   "cell_type": "code",
   "execution_count": 79,
   "outputs": [],
   "source": [
    "def test_write_csv_with_header_file():\n",
    "    fn = 'csv_tst.csv'\n",
    "    # with open(sys.argv[1], 'wt') as f:\n",
    "    with open(fn, 'wt') as f:\n",
    "        writer = csv.writer(f)\n",
    "        csv_event_file_header = csv_event_file_header_get()\n",
    "        writer.writerow(csv_event_file_header)\n",
    "        for i in range(8):\n",
    "            row = []\n",
    "            for i in range(len(csv_event_file_header)):\n",
    "                row.append(str(i))\n",
    "            row = tuple(row)\n",
    "            writer.writerow(row )\n",
    "\n",
    "    # print(open(sys.argv[1], 'rt').read())    pass\n",
    "    print (' -------------------')\n",
    "    # print(open(fn, 'rt').read())"
   ],
   "metadata": {
    "collapsed": false,
    "pycharm": {
     "name": "#%%\n"
    }
   }
  },
  {
   "cell_type": "code",
   "execution_count": 80,
   "outputs": [
    {
     "name": "stdout",
     "output_type": "stream",
     "text": [
      " -------------------\n"
     ]
    }
   ],
   "source": [
    "test_write_csv_with_header_file()"
   ],
   "metadata": {
    "collapsed": false,
    "pycharm": {
     "name": "#%%\n"
    }
   }
  },
  {
   "cell_type": "code",
   "execution_count": 81,
   "outputs": [],
   "source": [
    "def csv_event_make():\n",
    "    pass"
   ],
   "metadata": {
    "collapsed": false,
    "pycharm": {
     "name": "#%%\n"
    }
   }
  },
  {
   "cell_type": "code",
   "execution_count": 82,
   "outputs": [],
   "source": [
    "def new_d_event_philosopher():\n",
    "    # return dictionary with keys according to event_fieldnames in >timeline.xsd<\n",
    "    # all values are preset = ''\n",
    "    d_event_philosopher = {}\n",
    "    for cnt, event_fieldname in enumerate (extended_event_fieldnames):\n",
    "        d_event_philosopher[event_fieldname] = ''\n",
    "    # d_event_philosopher[\"start\"] = '*'\n",
    "    # d_event_philosopher[\"end\"] = '*'\n",
    "    return d_event_philosopher"
   ],
   "metadata": {
    "collapsed": false,
    "pycharm": {
     "name": "#%%\n"
    }
   }
  },
  {
   "cell_type": "code",
   "execution_count": 83,
   "outputs": [],
   "source": [
    "def adjust_philosopher_name(td_item):\n",
    "    philosopher_name = '?'\n",
    "    if td_item.a:\n",
    "        philosoph_full_name = td_item.a.string                 # Name\n",
    "        if ( ' von ' in philosoph_full_name) or  ( ' der ' in philosoph_full_name):\n",
    "            philosopher_name = philosoph_full_name\n",
    "        else:\n",
    "            philosopher_name = philosoph_full_name.split(' ')[-1]\n",
    "            if philosoph_full_name.split(' ')[:-1]:\n",
    "                philosopher_name = philosopher_name + ', '\n",
    "            for ele in philosoph_full_name.split(' ')[:-1]:\n",
    "                philosopher_name = philosopher_name + ele + ' '\n",
    "    return philosopher_name"
   ],
   "metadata": {
    "collapsed": false,
    "pycharm": {
     "name": "#%%\n"
    }
   }
  },
  {
   "cell_type": "code",
   "execution_count": 84,
   "outputs": [],
   "source": [
    "def check_lifespan_era(philosoph_lifespan, d_event_philosopher):\n",
    "    # eruiert ob vor oder nach Christus\n",
    "    # setzt entsprechende Felder im dict >d_event_philosopher<\n",
    "\n",
    "\n",
    "    # vor_Chr  = re.search('v\\. Chr\\.', philosoph_lifespan)\n",
    "    philosoph_lifespan_org = philosoph_lifespan\n",
    "    vor_Chr_str = 'v\\. Chr\\.'\n",
    "    vor_Chr  = re.search(vor_Chr_str, philosoph_lifespan)\n",
    "\n",
    "    # nach_Chr = re.search('n\\. Chr\\.', philosoph_lifespan)\n",
    "    nach_Chr_str = 'n\\. Chr\\.'\n",
    "    nach_Chr = re.search(nach_Chr_str, philosoph_lifespan)\n",
    "\n",
    "    if vor_Chr and nach_Chr:\n",
    "        d_event_philosopher['add_start_vCh'] = 'True'\n",
    "        philosoph_lifespan = re.sub(vor_Chr_str, \"\", philosoph_lifespan).strip()\n",
    "        d_event_philosopher['add_end_vCh']   = 'False'\n",
    "        philosoph_lifespan = re.sub(nach_Chr_str, \"\", philosoph_lifespan).strip()\n",
    "        d_event_philosopher['add_mods'] += 'vor_Chr and nach_Chr'\n",
    "        # print ('check_lifespan_era (vor_Chr and nach_Chr): vorher', philosoph_lifespan_org, ':  -->>  : > ', philosoph_lifespan)\n",
    "    elif (len(re.findall('v\\. Chr\\.', philosoph_lifespan)) >= 1):\n",
    "        d_event_philosopher['add_start_vCh'] = 'True'\n",
    "        philosoph_lifespan = re.sub(vor_Chr_str, \"\", philosoph_lifespan).strip()\n",
    "        d_event_philosopher['add_end_vCh']   = 'True'\n",
    "        philosoph_lifespan = re.sub(vor_Chr_str, \"\", philosoph_lifespan).strip()\n",
    "        d_event_philosopher['add_mods'] += 'vor_Chr'\n",
    "        # print ('check_lifespan_era (vor_Chr): vorher', philosoph_lifespan_org, ':  -->>  : > ', philosoph_lifespan)\n",
    "    return philosoph_lifespan, d_event_philosopher"
   ],
   "metadata": {
    "collapsed": false,
    "pycharm": {
     "name": "#%%\n"
    }
   }
  },
  {
   "cell_type": "code",
   "execution_count": 85,
   "outputs": [],
   "source": [
    "def modify_lifespan(substring, philosoph_lifespan, d_event_philosopher, comment):\n",
    "    # corrects string by deleting >substring< in string >philosoph_lifespan<\n",
    "    # ... if substring is present. (i.e. >n. Chr.<, >Jh.<, etc)\n",
    "    # Usually this means, that lifespan is not exactly known\n",
    "    # - a correspondig flag ('fuzzy') is set.\n",
    "    # - a 'comment' string is returned, to indicate the change.\n",
    "    found = re.search(substring, philosoph_lifespan)\n",
    "    if found:\n",
    "        comment += ', ' + substring\n",
    "        philosoph_lifespan = re.sub(substring, \"\", philosoph_lifespan).strip()\n",
    "        d_event_philosopher['add_mods'] = d_event_philosopher['add_mods']  + ', ' + substring\n",
    "    return philosoph_lifespan, d_event_philosopher, comment"
   ],
   "metadata": {
    "collapsed": false,
    "pycharm": {
     "name": "#%%\n"
    }
   }
  },
  {
   "cell_type": "code",
   "execution_count": 86,
   "outputs": [],
   "source": [
    "def vChr_set_negative(d_event_philosopher):\n",
    "    if ((d_event_philosopher['start'] != '?') and d_event_philosopher['add_start_vCh']):\n",
    "        d_event_philosopher['start'] = '-' + d_event_philosopher['start']\n",
    "    if ((d_event_philosopher['end'] != '?') and d_event_philosopher['add_end_vCh']):\n",
    "        d_event_philosopher['end'] = '-' + d_event_philosopher['end']\n",
    "    return d_event_philosopher"
   ],
   "metadata": {
    "collapsed": false,
    "pycharm": {
     "name": "#%%\n"
    }
   }
  },
  {
   "cell_type": "code",
   "execution_count": 89,
   "outputs": [],
   "source": [
    "cnt = 1\n",
    "def adjust_philosoph_lifespan (philosoph_lifespan, d_event_philosopher):\n",
    "    global cnt\n",
    "\n",
    "    d_event_philosopher['start'] = '?'\n",
    "    d_event_philosopher['end']   = '?'\n",
    "    d_event_philosopher['fuzzy'] = ''\n",
    "    comment = ''\n",
    "\n",
    "    philosoph_lifespan = philosoph_lifespan.strip()\n",
    "    p_l_span_org       = philosoph_lifespan\n",
    "\n",
    "    philosoph_lifespan, d_event_philosopher = check_lifespan_era(philosoph_lifespan, d_event_philosopher)\n",
    "\n",
    "    substrings = [u\"um\", u\"† nach\", u\"†\", u\"unsicher\", \"\\*\", u\"Jh\\.\", u\"Jahrhundert\" ]\n",
    "    for substring in substrings:\n",
    "        philosoph_lifespan, d_event_philosopher, comment = \\\n",
    "            modify_lifespan(substring, philosoph_lifespan, d_event_philosopher, comment)\n",
    "\n",
    "    add_mods = d_event_philosopher['add_mods']\n",
    "    # if (u\"um\" in add_mods) or (\"\\*\"  in add_mods):\n",
    "    if (u\"um\" in add_mods) :\n",
    "        d_event_philosopher['fuzzy']   = 'True'\n",
    "\n",
    "    philosoph_lifespan = philosoph_lifespan.strip()\n",
    "\n",
    "    search_substring_from_Y_to_Y = u\"\\d{1,4}–\\d{1,4}$\"\n",
    "    search_substring_Y = u\"\\d{1,4}$\"\n",
    "\n",
    "    substring = search_substring_from_Y_to_Y\n",
    "    if regex.match(substring, philosoph_lifespan):\n",
    "        years = regex.findall(u\"\\d{1,4}\", philosoph_lifespan)\n",
    "        d_event_philosopher['start'] = years[0]\n",
    "        d_event_philosopher['end']   = years[1]\n",
    "        d_event_philosopher['add_mods'] += ', ' + substring\n",
    "        comment += u\", \" + substring\n",
    "    else:\n",
    "        substring = search_substring_Y\n",
    "        if regex.search(substring, philosoph_lifespan):\n",
    "            years = regex.findall(u\"\\d{1,4}\", philosoph_lifespan)\n",
    "            d_event_philosopher['start'] = years[0]\n",
    "            d_event_philosopher['add_mods'] = d_event_philosopher['add_mods']  + ', ' + substring\n",
    "            if u'*' in d_event_philosopher['add_mods']:\n",
    "                d_event_philosopher['end']   = 'alive'\n",
    "            else: pass\n",
    "            comment += u\", \" + substring\n",
    "        else: pass\n",
    "\n",
    "\n",
    "    d_event_philosopher = vChr_set_negative(d_event_philosopher)\n",
    "\n",
    "    if d_event_philosopher['fuzzy'] == 'True':\n",
    "        if search_substring_from_Y_to_Y in d_event_philosopher['add_mods']:\n",
    "            pass\n",
    "        elif search_substring_Y in d_event_philosopher['add_mods']:\n",
    "            try:\n",
    "                akme = int (d_event_philosopher['start'])\n",
    "                if d_event_philosopher['add_start_vCh']:\n",
    "                    d_event_philosopher['start'] = str(akme - 50)\n",
    "                    d_event_philosopher['end'] = str(akme + 15)\n",
    "                d_event_philosopher['start'] = str(akme - 50)\n",
    "                d_event_philosopher['end'] = str(akme + 15)\n",
    "                pass\n",
    "            except:\n",
    "                pass\n",
    "            pass\n",
    "        pass\n",
    "\n",
    "    # d_event_philosopher = vChr_set_negative(d_event_philosopher)\n",
    "\n",
    "    p_l_span = philosoph_lifespan\n",
    "    #  or (d_event_philosopher['fuzzy'] == 'True')\n",
    "    if ((d_event_philosopher['start'] == '?') or (d_event_philosopher['end'] == '?')):\n",
    "        print ('>{:3d}: '.format(cnt), '{:25}'.format(p_l_span_org), '=>', '{:25}'.format(p_l_span) , ' :: '     ,\\\n",
    "               '{:6}'.format(d_event_philosopher['start'])        , '{:6}'.format(d_event_philosopher['end']), ' | ' ,\\\n",
    "               '{:6}'.format(d_event_philosopher['add_start_vCh']), '{:6}'.format(d_event_philosopher['add_end_vCh']), ' | ',\\\n",
    "               '{:10}'.format(d_event_philosopher['fuzzy']), ' | ' ,\\\n",
    "               '   \\n add_mods == >' + d_event_philosopher['add_mods'] + '<')\n",
    "        # print(Fore.YELLOW + \"This is the color of the sun\" + Style.RESET_ALL)\n",
    "        # print(f\"{bcolors.WARNING}\n",
    "        cnt = cnt + 1\n",
    "    return philosoph_lifespan, d_event_philosopher['fuzzy']"
   ],
   "metadata": {
    "collapsed": false,
    "pycharm": {
     "name": "#%%\n"
    }
   }
  },
  {
   "cell_type": "code",
   "execution_count": 90,
   "metadata": {
    "pycharm": {
     "name": "#%%\n"
    }
   },
   "outputs": [
    {
     "name": "stdout",
     "output_type": "stream",
     "text": [
      ">  1:  unsicher  v. Chr.         =>                            ::  ?      ?       |  True   True    |              |     \n",
      " add_mods == >vor_Chr, unsicher<\n",
      ">  2:  5. Jh. v. Chr.            => 5.                         ::  ?      ?       |  True   True    |              |     \n",
      " add_mods == >vor_Chr, Jh\\.<\n",
      ">  3:  5.–4. Jh. v. Chr.         => 5.–4.                      ::  ?      ?       |  True   True    |              |     \n",
      " add_mods == >vor_Chr, Jh\\.<\n",
      ">  4:  5. Jh. v. Chr.            => 5.                         ::  ?      ?       |  True   True    |              |     \n",
      " add_mods == >vor_Chr, Jh\\.<\n",
      ">  5:  unsicher (5. Jh.) v. Chr. => (5. )                      ::  ?      ?       |  True   True    |              |     \n",
      " add_mods == >vor_Chr, unsicher, Jh\\.<\n",
      ">  6:  um 300 v. Chr             => 300 v. Chr                 ::  ?      ?       |                 |  True        |     \n",
      " add_mods == >, um<\n",
      ">  7:  3. Jh. v. Chr.            => 3.                         ::  ?      ?       |  True   True    |              |     \n",
      " add_mods == >vor_Chr, Jh\\.<\n",
      ">  8:  4. Jh. v. Chr.            => 4.                         ::  ?      ?       |  True   True    |              |     \n",
      " add_mods == >vor_Chr, Jh\\.<\n",
      ">  9:  4.–3. Jh. v. Chr.         => 4.–3.                      ::  ?      ?       |  True   True    |              |     \n",
      " add_mods == >vor_Chr, Jh\\.<\n",
      "> 10:  4.–3. Jh. v. Chr.         => 4.–3.                      ::  ?      ?       |  True   True    |              |     \n",
      " add_mods == >vor_Chr, Jh\\.<\n",
      "> 11:  † 276 oder 275            => 276 oder 275               ::  276    ?       |                 |              |     \n",
      " add_mods == >, †, \\d{1,4}$<\n",
      "> 12:  † 207 v. Chr.             => 207                        ::  -207   ?       |  True   True    |              |     \n",
      " add_mods == >vor_Chr, †, \\d{1,4}$<\n",
      "> 13:  † 84/83 v. Chr            => 84/83 v. Chr               ::  ?      ?       |                 |              |     \n",
      " add_mods == >, †<\n",
      "> 14:  unsicher v. Chr.          =>                            ::  ?      ?       |  True   True    |              |     \n",
      " add_mods == >vor_Chr, unsicher<\n",
      "> 15:  vor 340 v. Chr.           => vor 340                    ::  -340   ?       |  True   True    |              |     \n",
      " add_mods == >vor_Chr, \\d{1,4}$<\n",
      "> 16:  unsicher v. Chr.          =>                            ::  ?      ?       |  True   True    |              |     \n",
      " add_mods == >vor_Chr, unsicher<\n",
      "> 17:  unsicher v. Chr.          =>                            ::  ?      ?       |  True   True    |              |     \n",
      " add_mods == >vor_Chr, unsicher<\n",
      "> 18:  3. Jh. v. Chr.            => 3.                         ::  ?      ?       |  True   True    |              |     \n",
      " add_mods == >vor_Chr, Jh\\.<\n",
      "> 19:  1. Jh. v. Chr.            => 1.                         ::  ?      ?       |  True   True    |              |     \n",
      " add_mods == >vor_Chr, Jh\\.<\n",
      "> 20:  2. Jh. v. Chr.            => 2.                         ::  ?      ?       |  True   True    |              |     \n",
      " add_mods == >vor_Chr, Jh\\.<\n",
      "> 21:  2. oder 3. Jh. v. Chr.    => 2. oder 3.                 ::  ?      ?       |  True   True    |              |     \n",
      " add_mods == >vor_Chr, Jh\\.<\n",
      "> 22:  5. Jh. v. Chr.            => 5.                         ::  ?      ?       |  True   True    |              |     \n",
      " add_mods == >vor_Chr, Jh\\.<\n",
      "> 23:  2. Jh. v. Chr.            => 2.                         ::  ?      ?       |  True   True    |              |     \n",
      " add_mods == >vor_Chr, Jh\\.<\n",
      "> 24:  3. oder 2. Jh. v. Chr.    => 3. oder 2.                 ::  ?      ?       |  True   True    |              |     \n",
      " add_mods == >vor_Chr, Jh\\.<\n",
      "> 25:  1. Jh. v. Chr./1. Jh. n. Chr. => 1.  /1.                    ::  ?      ?       |  True   False   |              |     \n",
      " add_mods == >vor_Chr and nach_Chr, Jh\\.<\n",
      "> 26:  1. Jh. v. Chr.            => 1.                         ::  ?      ?       |  True   True    |              |     \n",
      " add_mods == >vor_Chr, Jh\\.<\n",
      "> 27:  unsicher                  =>                            ::  ?      ?       |                 |              |     \n",
      " add_mods == >, unsicher<\n",
      "> 28:  2. Jh.                    => 2.                         ::  ?      ?       |                 |              |     \n",
      " add_mods == >, Jh\\.<\n",
      "> 29:  2. Jh.                    => 2.                         ::  ?      ?       |                 |              |     \n",
      " add_mods == >, Jh\\.<\n",
      "> 30:  2. Jh.                    => 2.                         ::  ?      ?       |                 |              |     \n",
      " add_mods == >, Jh\\.<\n",
      "> 31:  150 bis nach 215          => 150 bis nach 215           ::  150    ?       |                 |              |     \n",
      " add_mods == >, \\d{1,4}$<\n",
      "> 32:  185–253 oder 254          => 185–253 oder 254           ::  185    ?       |                 |              |     \n",
      " add_mods == >, \\d{1,4}$<\n",
      "> 33:  † 372                     => 372                        ::  372    ?       |                 |              |     \n",
      " add_mods == >, †, \\d{1,4}$<\n",
      "> 34:  5. Jh.                    => 5.                         ::  ?      ?       |                 |              |     \n",
      " add_mods == >, Jh\\.<\n",
      "> 35:  6. Jh.                    => 6.                         ::  ?      ?       |                 |              |     \n",
      " add_mods == >, Jh\\.<\n",
      "> 36:  6. Jahrhundert            => 6.                         ::  ?      ?       |                 |              |     \n",
      " add_mods == >, Jahrhundert<\n",
      "> 37:  unsicher                  =>                            ::  ?      ?       |                 |              |     \n",
      " add_mods == >, unsicher<\n",
      "> 38:  2. Jh.                    => 2.                         ::  ?      ?       |                 |              |     \n",
      " add_mods == >, Jh\\.<\n",
      "> 39:  unsicher                  =>                            ::  ?      ?       |                 |              |     \n",
      " add_mods == >, unsicher<\n",
      "> 40:  unsicher                  =>                            ::  ?      ?       |                 |              |     \n",
      " add_mods == >, unsicher<\n",
      "> 41:  unsicher                  =>                            ::  ?      ?       |                 |              |     \n",
      " add_mods == >, unsicher<\n",
      "> 42:  um 100–200 n. Chr.        => 100–200 n. Chr.            ::  ?      ?       |                 |  True        |     \n",
      " add_mods == >, um<\n",
      "> 43:  um 250–350 n. Chr.        => 250–350 n. Chr.            ::  ?      ?       |                 |  True        |     \n",
      " add_mods == >, um<\n",
      "> 44:  um 420–500 n. Chr.        => 420–500 n. Chr.            ::  ?      ?       |                 |  True        |     \n",
      " add_mods == >, um<\n",
      "> 45:  um 420–500 n. Chr.        => 420–500 n. Chr.            ::  ?      ?       |                 |  True        |     \n",
      " add_mods == >, um<\n",
      "> 46:  7. Jh.                    => 7.                         ::  ?      ?       |                 |              |     \n",
      " add_mods == >, Jh\\.<\n",
      "> 47:  † 107                     => 107                        ::  107    ?       |                 |              |     \n",
      " add_mods == >, †, \\d{1,4}$<\n",
      "> 48:  216–276 oder 277          => 216–276 oder 277           ::  216    ?       |                 |              |     \n",
      " add_mods == >, \\d{1,4}$<\n",
      "> 49:  unsicher                  =>                            ::  ?      ?       |                 |              |     \n",
      " add_mods == >, unsicher<\n",
      "> 50:  260 oder 264–337 oder 340 => 260 oder 264–337 oder 340  ::  260    ?       |                 |              |     \n",
      " add_mods == >, \\d{1,4}$<\n",
      "> 51:  † 636                     => 636                        ::  636    ?       |                 |              |     \n",
      " add_mods == >, †, \\d{1,4}$<\n",
      "> 52:  † 662                     => 662                        ::  662    ?       |                 |              |     \n",
      " add_mods == >, †, \\d{1,4}$<\n",
      "> 53:  † 1088                    => 1088                       ::  1088   ?       |                 |              |     \n",
      " add_mods == >, †, \\d{1,4}$<\n",
      "> 54:  † 1121                    => 1121                       ::  1121   ?       |                 |              |     \n",
      " add_mods == >, †, \\d{1,4}$<\n",
      "> 55:  † nach 1124               => 1124                       ::  1124   ?       |                 |              |     \n",
      " add_mods == >, † nach, \\d{1,4}$<\n",
      "> 56:  12. Jh.                   => 12.                        ::  ?      ?       |                 |              |     \n",
      " add_mods == >, Jh\\.<\n",
      "> 57:  † nach 1150               => 1150                       ::  1150   ?       |                 |              |     \n",
      " add_mods == >, † nach, \\d{1,4}$<\n",
      "> 58:  gest. 1151                => gest. 1151                 ::  1151   ?       |                 |              |     \n",
      " add_mods == >, \\d{1,4}$<\n",
      "> 59:  verm. 1175–1245           => verm. 1175–1245            ::  1175   ?       |                 |              |     \n",
      " add_mods == >, \\d{1,4}$<\n",
      "> 60:  † 1284                    => 1284                       ::  1284   ?       |                 |              |     \n",
      " add_mods == >, †, \\d{1,4}$<\n",
      "> 61:  † 1286                    => 1286                       ::  1286   ?       |                 |              |     \n",
      " add_mods == >, †, \\d{1,4}$<\n",
      "> 62:  † 1290                    => 1290                       ::  1290   ?       |                 |              |     \n",
      " add_mods == >, †, \\d{1,4}$<\n",
      "> 63:  vor 1250 bis nach 1305    => vor 1250 bis nach 1305     ::  1250   ?       |                 |              |     \n",
      " add_mods == >, \\d{1,4}$<\n",
      "> 64:  1274 oder 1275–nach 1344  => 1274 oder 1275–nach 1344   ::  1274   ?       |                 |              |     \n",
      " add_mods == >, \\d{1,4}$<\n",
      "> 65:  verm. –1420               => verm. –1420                ::  1420   ?       |                 |              |     \n",
      " add_mods == >, \\d{1,4}$<\n",
      "> 66:  † 1206                    => 1206                       ::  1206   ?       |                 |              |     \n",
      " add_mods == >, †, \\d{1,4}$<\n",
      "> 67:  1250/1260–1310            => 1250/1260–1310             ::  1250   ?       |                 |              |     \n",
      " add_mods == >, \\d{1,4}$<\n",
      "> 68:  ca. 1406–1457             => ca. 1406–1457              ::  1406   ?       |                 |              |     \n",
      " add_mods == >, \\d{1,4}$<\n",
      "> 69:  1395–1472/1484            => 1395–1472/1484             ::  1395   ?       |                 |              |     \n",
      " add_mods == >, \\d{1,4}$<\n",
      "> 70:  1624 getauft -1677        => 1624 getauft -1677         ::  1624   ?       |                 |              |     \n",
      " add_mods == >, \\d{1,4}$<\n"
     ]
    }
   ],
   "source": [
    "row_cnt = 0\n",
    "\n",
    "act_h2  = ''   # Epoche\n",
    "act_h3  = ''   # Unterepoche\n",
    "act_h4  = ''   # Unter-Unterepoche\n",
    "\n",
    "old_h2  = ''\n",
    "old_h3  = ''\n",
    "old_h4  = ''\n",
    "\n",
    "# lo == list of : event == philosopher\n",
    "lo_d_event_philosopher  = []\n",
    "d_event_philosopher     = new_d_event_philosopher()\n",
    "d_event_philosoph_cnt   = 0\n",
    "\n",
    "# cycle rows in table:\n",
    "for bs4_row in bs4_table.find_all('tr'):\n",
    "    # print (type(bs4_row))   # type == <class 'bs4.element.Tag'>\n",
    "    bs4_row_text = BeautifulSoup(bs4_row.get_text())  # get_text() == 'converts' type to string, sort of\n",
    "    row_cnt += 1\n",
    "    # https://stackoverflow.com/questions/13853025/is-there-a-way-in-beautiful-soup-to-count-the-number-of-tags-in-a-html-page\n",
    "    td_columns = len (bs4_row.find_all('td'))\n",
    "\n",
    "    # 1 column in row == Epoche / Unterepoche / Unter-Unterepoche == Headline of span\n",
    "    if (td_columns == 1):\n",
    "        if bs4_row.find_all('h2'):\n",
    "            try:\n",
    "                act_h2 = bs4_row.find_all('span', class_='mw-headline')[0].string\n",
    "                category = act_h2\n",
    "            except:  pass\n",
    "        elif bs4_row.find_all('h3'):\n",
    "            try:\n",
    "                act_h3 = bs4_row.find_all('span', class_='mw-headline')[0].string\n",
    "                category = act_h2 + ' - ' + act_h3\n",
    "            except: pass\n",
    "        elif bs4_row.find_all('h4'):\n",
    "            try:\n",
    "                act_h4 = bs4_row.find_all('span', class_='mw-headline')[0].string\n",
    "                category = act_h2  + ' - ' + act_h3  + ' - ' + act_h4\n",
    "            except: pass\n",
    "        # print ('category =  ', category)\n",
    "\n",
    "    elif (td_columns == 4) :\n",
    "        d_event_philosopher     = new_d_event_philosopher()\n",
    "        philosoph_lifespan      = None\n",
    "\n",
    "        # cycle 4 columns in row:  'Periode' / 'Philosoph' (Name) / 'Philosophie' (Thesen) / 'Allgemeine Geschichte'\n",
    "        for td_cnt, td_item in enumerate (bs4_row.find_all('td')):\n",
    "            if   (td_cnt == 0) and (td_item.string):                               #  'Periode'\n",
    "                philosoph_lifespan = adjust_philosoph_lifespan (td_item.string, d_event_philosopher)\n",
    "            elif (td_cnt == 1) and (td_item.a.string):                             #  'Philosoph' (Name)\n",
    "                philosopher_name = adjust_philosopher_name(td_item)\n",
    "                d_event_philosoph_cnt += 1\n",
    "                try:\n",
    "                    philosoph_lifespan = philosoph_lifespan.string.replace(\"\\n\", \" \")\n",
    "                except:\n",
    "                    philosoph_lifespan = '???? '\n",
    "            elif (td_cnt == 2) and (td_item):                                      #  'Philosophie' (Thesen)\n",
    "                philosopher_lo_theories = []\n",
    "                for li_cnt, li_item in enumerate (td_item.find_all('li')):\n",
    "                    philosopher_lo_theories.append(li_item.text)\n",
    "            elif (td_cnt == 3) and (td_item):                                      #  'Allgemeine Geschichte'\n",
    "                # philosopher_lo_history = td_item.text\n",
    "                philosopher_lo_history = []\n",
    "                for li_cnt, li_item in enumerate (td_item.find_all('li')):\n",
    "                    philosopher_lo_history.append(li_item.text)\n",
    "\n",
    "                line_new  = '{:>35}      {}    {}  '.format(philosoph_lifespan, philosopher_name, philosopher_lo_theories)\n",
    "                # print (d_event_philosoph_cnt, ': ', line_new)\n",
    "\n",
    "                # philosopher.lifespan = philosoph_lifespan\n",
    "\n",
    "\n",
    "    # lo_d_event_philosopher.append(philosopher)\n",
    "\n"
   ]
  }
 ],
 "metadata": {
  "kernelspec": {
   "display_name": "Python 3",
   "language": "python",
   "name": "python3"
  },
  "language_info": {
   "codemirror_mode": {
    "name": "ipython",
    "version": 3
   },
   "file_extension": ".py",
   "mimetype": "text/x-python",
   "name": "python",
   "nbconvert_exporter": "python",
   "pygments_lexer": "ipython3",
   "version": "3.8.8"
  }
 },
 "nbformat": 4,
 "nbformat_minor": 2
}