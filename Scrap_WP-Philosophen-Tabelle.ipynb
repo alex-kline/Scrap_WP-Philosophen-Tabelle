{
 "cells": [
  {
   "cell_type": "code",
   "execution_count": null,
   "metadata": {},
   "outputs": [],
   "source": [
    "# Extrahiere Tabelle / Philosophennamen aus:\n",
    "# https://de.wikipedia.org/wiki/Zeittafel_zur_Philosophiegeschichte\n",
    "#\n",
    "# Mozilla Firefox shortcuts\n",
    "# \n",
    "# \n",
    "# Jupyter Shortcuts: 'H'\n",
    "#\n",
    "# https://www.tutorialspoint.com/python_web_scraping/python_modules_for_web_scraping.htm\n",
    "# https://www.freecodecamp.org/news/how-to-scrape-websites-with-python-2/\n",
    "# https://oxylabs.io/blog/python-web-scraping\n",
    "# https://www.freecodecamp.org/news/web-scraping-python-tutorial-how-to-scrape-data-from-a-website/\n",
    "# https://www.dataquest.io/blog/web-scraping-python-using-beautiful-soup/\n",
    "#\n",
    "# https://www.geeksforgeeks.org/parsing-tables-and-xml-with-beautifulsoup/\n",
    "# https://towardsdatascience.com/a-guide-to-scraping-html-tables-with-pandas-and-beautifulsoup-7fc24c331cf7\n",
    "#"
   ]
  },
  {
   "cell_type": "code",
   "execution_count": null,
   "metadata": {},
   "outputs": [],
   "source": [
    "import sys\n",
    "import re\n",
    "import regex\n",
    "import requests\n",
    "import csv\n",
    "import locale\n",
    "from bs4 import BeautifulSoup\n",
    "# sys.setdefaultencoding('UTF8')\n"
   ]
  },
  {
   "cell_type": "code",
   "execution_count": null,
   "metadata": {},
   "outputs": [],
   "source": [
    "web_page_address = \"https://de.wikipedia.org/wiki/Zeittafel_zur_Philosophiegeschichte\"\n",
    "print (web_page_address)"
   ]
  },
  {
   "cell_type": "code",
   "execution_count": null,
   "metadata": {},
   "outputs": [],
   "source": [
    "web_page = requests.get(web_page_address)\n",
    "print (\"web_page = \\t\\t\", web_page)\n",
    "print (\"web_page.status_code = \\t\", web_page.status_code)\n"
   ]
  },
  {
   "cell_type": "code",
   "execution_count": null,
   "metadata": {},
   "outputs": [],
   "source": [
    "# print (\"web_page.content = \\t\", web_page.content)\n",
    "# from >timeline.xsd<\n",
    "# >add_*< keys are used internally\n",
    "event_fieldnames = (\"start\", \"end\", \"text\", \"progress\", \"fuzzy\", \"locked\", \"ends_today\", \"category\", \"description\", \"hyperlink\", \"alert\", \"icon\", \"default_color\", \"milestone\")\n",
    "\n",
    "additional_event_fieldnames = (\"add_start_vCh\", \"add_end_vCh\", \"add_start_end_ok\")\n",
    "\n",
    "extended_event_fieldnames = []\n",
    "for item in event_fieldnames:\n",
    "    extended_event_fieldnames.append(item)\n",
    "for item in additional_event_fieldnames:\n",
    "    extended_event_fieldnames.append(item)\n",
    "extended_event_fieldnames = tuple(extended_event_fieldnames)\n",
    "\n",
    "# https://stackoverflow.com/questions/16730339/python-add-item-to-the-tuple\n",
    "def csv_event_file_header_get():\n",
    "    event_header = []\n",
    "    for item in event_fieldnames:\n",
    "        event_header.append(item)\n",
    "    event_header = tuple(event_header)\n",
    "    return event_header\n"
   ]
  },
  {
   "cell_type": "code",
   "execution_count": null,
   "metadata": {},
   "outputs": [],
   "source": [
    "soup = BeautifulSoup(web_page.content, 'html.parser')\n",
    "# print(soup.prettify())"
   ]
  },
  {
   "cell_type": "code",
   "execution_count": null,
   "metadata": {},
   "outputs": [],
   "source": [
    "bs4_table = soup.find('table', class_='wikitable toptextcells')\n",
    "# print (type(bs4_table))"
   ]
  },
  {
   "cell_type": "code",
   "execution_count": null,
   "outputs": [],
   "source": [
    "def test_write_csv_with_header_file():\n",
    "    fn = 'csv_tst.csv'\n",
    "    # with open(sys.argv[1], 'wt') as f:\n",
    "    with open(fn, 'wt') as f:\n",
    "        writer = csv.writer(f)\n",
    "        writer.writerow(csv_event_file_header_get())\n",
    "        for i in range(3):\n",
    "            row = (\n",
    "                i + 1,\n",
    "                chr(ord('a') + i),\n",
    "                '08/{:02d}/07'.format(i + 1),\n",
    "                i,\n",
    "            )\n",
    "            writer.writerow(row )\n",
    "\n",
    "    # print(open(sys.argv[1], 'rt').read())    pass\n",
    "    print (' -------------------')\n",
    "    print(open(fn, 'rt').read())"
   ],
   "metadata": {
    "collapsed": false,
    "pycharm": {
     "name": "#%%\n"
    }
   }
  },
  {
   "cell_type": "code",
   "execution_count": null,
   "outputs": [],
   "source": [
    "test_write_csv_with_header_file()"
   ],
   "metadata": {
    "collapsed": false,
    "pycharm": {
     "name": "#%%\n"
    }
   }
  },
  {
   "cell_type": "code",
   "execution_count": null,
   "outputs": [],
   "source": [
    "def csv_event_make():\n",
    "    pass"
   ],
   "metadata": {
    "collapsed": false,
    "pycharm": {
     "name": "#%%\n"
    }
   }
  },
  {
   "cell_type": "code",
   "execution_count": null,
   "outputs": [],
   "source": [
    "def new_d_event_philosopher():\n",
    "    # return dictionary with keys according to event_fieldnames in >timeline.xsd<\n",
    "    # all values are preset = ''\n",
    "    d_event_philosopher = {}\n",
    "    for cnt, event_fieldname in enumerate (extended_event_fieldnames):\n",
    "        d_event_philosopher[event_fieldname] = ''\n",
    "    # d_event_philosopher[\"start\"] = '*'\n",
    "    # d_event_philosopher[\"end\"] = '*'\n",
    "    return d_event_philosopher"
   ],
   "metadata": {
    "collapsed": false,
    "pycharm": {
     "name": "#%%\n"
    }
   }
  },
  {
   "cell_type": "code",
   "execution_count": null,
   "outputs": [],
   "source": [
    "def adjust_philosopher_name(td_item):\n",
    "    philosopher_name = '?'\n",
    "    if td_item.a:\n",
    "        philosoph_full_name = td_item.a.string                 # Name\n",
    "        if ( ' von ' in philosoph_full_name) or  ( ' der ' in philosoph_full_name):\n",
    "            philosopher_name = philosoph_full_name\n",
    "        else:\n",
    "            philosopher_name = philosoph_full_name.split(' ')[-1]\n",
    "            if philosoph_full_name.split(' ')[:-1]:\n",
    "                philosopher_name = philosopher_name + ', '\n",
    "            for ele in philosoph_full_name.split(' ')[:-1]:\n",
    "                philosopher_name = philosopher_name + ele + ' '\n",
    "    return philosopher_name"
   ],
   "metadata": {
    "collapsed": false,
    "pycharm": {
     "name": "#%%\n"
    }
   }
  },
  {
   "cell_type": "code",
   "execution_count": null,
   "outputs": [],
   "source": [
    "def check_lifespan_era(philosoph_lifespan, d_event_philosopher):\n",
    "    # eruiert ob vor oder nach Christus\n",
    "    # setzt entsprechende Felder im dict >d_event_philosopher<\n",
    "\n",
    "    vor_Chr  = re.search('v\\. Chr\\.', philosoph_lifespan)\n",
    "    nach_Chr = re.search('n\\. Chr\\.', philosoph_lifespan)\n",
    "\n",
    "    if vor_Chr and nach_Chr:\n",
    "        d_event_philosopher['add_start_vCh'] = 'True'\n",
    "        d_event_philosopher['add_end_vCh']   = 'False'\n",
    "        # print ('vor_Chr and nach_Chr')\n",
    "    elif (len(re.findall('v\\. Chr\\.', philosoph_lifespan)) >= 1):\n",
    "        d_event_philosopher['add_start_vCh'] = 'True'\n",
    "        d_event_philosopher['add_end_vCh']   = 'True'\n",
    "    return d_event_philosopher"
   ],
   "metadata": {
    "collapsed": false,
    "pycharm": {
     "name": "#%%\n"
    }
   }
  },
  {
   "cell_type": "code",
   "execution_count": null,
   "outputs": [],
   "source": [
    "def modify_lifespan(substring, philosoph_lifespan, d_event_philosopher, comment):\n",
    "    # corrects string by deleting >substring< in string >philosoph_lifespan<\n",
    "    # ... if substring is present. (i.e. >n. Chr.<, >Jh.<, etc)\n",
    "    # Usually this means, that lifespan is not exactly known\n",
    "    # - a correspondig flag ('fuzzy') is set.\n",
    "    # - a 'comment' string is returned, to indicate the change.\n",
    "    found = re.search(substring, philosoph_lifespan)\n",
    "    if found:\n",
    "        comment = substring\n",
    "        d_event_philosopher['fuzzy'] = 'True'\n",
    "        philosoph_lifespan = re.sub(substring, \"\", philosoph_lifespan).strip()\n",
    "    return philosoph_lifespan, d_event_philosopher, comment"
   ],
   "metadata": {
    "collapsed": false,
    "pycharm": {
     "name": "#%%\n"
    }
   }
  },
  {
   "cell_type": "code",
   "execution_count": null,
   "outputs": [],
   "source": [
    "cnt = 1\n",
    "def adjust_philosoph_lifespan (philosoph_lifespan, d_event_philosopher):\n",
    "    global cnt\n",
    "\n",
    "    d_event_philosopher['start'] = '?'\n",
    "    d_event_philosopher['end']   = '?'\n",
    "    d_event_philosopher['fuzzy'] = ''\n",
    "    comment = ''\n",
    "\n",
    "    philosoph_lifespan = philosoph_lifespan.strip()\n",
    "    p_l_span_org       = philosoph_lifespan\n",
    "\n",
    "    check_lifespan_era(philosoph_lifespan, d_event_philosopher)\n",
    "\n",
    "    loc_substring = u\"um\"\n",
    "    philosoph_lifespan, d_event_philosopher, comment = \\\n",
    "        modify_lifespan(loc_substring, philosoph_lifespan, d_event_philosopher, comment)\n",
    "\n",
    "    loc_substring = u\"† nach\"\n",
    "    philosoph_lifespan, d_event_philosopher, comment = \\\n",
    "        modify_lifespan(loc_substring, philosoph_lifespan, d_event_philosopher, comment)\n",
    "    if comment == loc_substring:\n",
    "        if regex.match(u\"\\d{1,4}\", philosoph_lifespan):\n",
    "            years = regex.findall(u\"\\d{1,4}\", philosoph_lifespan)\n",
    "            d_event_philosopher['end']   = years[0]\n",
    "            comment = u\"ok\"\n",
    "\n",
    "    loc_substring = u\"†\"\n",
    "    philosoph_lifespan, d_event_philosopher, comment = \\\n",
    "        modify_lifespan(loc_substring, philosoph_lifespan, d_event_philosopher, comment)\n",
    "    if comment == loc_substring:\n",
    "        if regex.match(u\"\\d{1,4}\", philosoph_lifespan):\n",
    "            years = regex.findall(u\"\\d{1,4}\", philosoph_lifespan)\n",
    "            d_event_philosopher['end']   = years[0]\n",
    "            comment = u\"ok\"\n",
    "\n",
    "    loc_substring = u\"unsicher\"\n",
    "    philosoph_lifespan, d_event_philosopher, comment = \\\n",
    "        modify_lifespan(loc_substring, philosoph_lifespan, d_event_philosopher, comment)\n",
    "\n",
    "    loc_substring = u\"\\*\"\n",
    "    philosoph_lifespan, d_event_philosopher, comment = \\\n",
    "        modify_lifespan(loc_substring, philosoph_lifespan, d_event_philosopher, comment)\n",
    "    if comment == loc_substring:\n",
    "        if regex.match(u\"\\d{1,4}\", philosoph_lifespan):\n",
    "            years = regex.findall(u\"\\d{1,4}\", philosoph_lifespan)\n",
    "            d_event_philosopher['start']   = years[0]\n",
    "            comment = u\"ok\"\n",
    "\n",
    "    loc_substring = u\"v\\. Chr\\.\"\n",
    "    philosoph_lifespan, d_event_philosopher, comment = \\\n",
    "        modify_lifespan(loc_substring, philosoph_lifespan, d_event_philosopher, comment)\n",
    "\n",
    "    loc_substring = u\"Jh\\.\"\n",
    "    philosoph_lifespan, d_event_philosopher, comment = \\\n",
    "        modify_lifespan(loc_substring, philosoph_lifespan, d_event_philosopher, comment)\n",
    "    if (comment == loc_substring) and regex.match(u\"\\d{1,4}\", philosoph_lifespan):\n",
    "        years = regex.findall(u\"\\d{1,4}\", philosoph_lifespan)\n",
    "        try:     d_event_philosopher['end'] = str(int(years[0]) * 100)\n",
    "        except:  d_event_philosopher['end'] = '??'\n",
    "        comment = u\"ok\"\n",
    "\n",
    "    loc_substring = u\"Jahrhundert\"\n",
    "    philosoph_lifespan, d_event_philosopher, comment = \\\n",
    "        modify_lifespan(loc_substring, philosoph_lifespan, d_event_philosopher, comment)\n",
    "    if (comment == loc_substring) and regex.match(u\"\\d{1,4}\", philosoph_lifespan):\n",
    "        years = regex.findall(u\"\\d{1,4}\", philosoph_lifespan)\n",
    "        try:    d_event_philosopher['end'] = str(int(years[0]) * 100)\n",
    "        except: d_event_philosopher['end'] = '??'\n",
    "        comment = u\"ok\"\n",
    "\n",
    "    if regex.match(u\"\\d{1,4}–\\d{1,4}$\", philosoph_lifespan):\n",
    "        years = regex.findall(u\"\\d{1,4}\", philosoph_lifespan)\n",
    "        d_event_philosopher['start'] = years[0]\n",
    "        d_event_philosopher['end']   = years[1]\n",
    "        comment = u\"\\d{1,4}–\\d{1,4}$\"\n",
    "        comment = u\"ok\"\n",
    "    else:\n",
    "        # print (philosoph_lifespan, ' >>>> ', d_event_philosopher['start'] , d_event_philosopher['end'])\n",
    "        pass\n",
    "\n",
    "    p_l_span = philosoph_lifespan\n",
    "    # p_l_span_org\n",
    "    if (comment != u\"ok\") or (d_event_philosopher['add_start_vCh']) or (d_event_philosopher['add_end_vCh']):\n",
    "        print ('{:d}'.format(cnt), '{:25}'.format(p_l_span_org), '=>', '{:6}'.format(d_event_philosopher['start']) , '{:6}'.format(d_event_philosopher['end']), ' | ', '{:6}'.format(d_event_philosopher['add_start_vCh']), '{:6}'.format(d_event_philosopher['add_end_vCh']), comment)\n",
    "        cnt = cnt + 1\n",
    "    return philosoph_lifespan, d_event_philosopher['fuzzy']"
   ],
   "metadata": {
    "collapsed": false,
    "pycharm": {
     "name": "#%%\n"
    }
   }
  },
  {
   "cell_type": "code",
   "execution_count": null,
   "metadata": {
    "pycharm": {
     "name": "#%%\n",
     "is_executing": true
    }
   },
   "outputs": [],
   "source": [
    "row_cnt = 0\n",
    "\n",
    "act_h2  = ''   # Epoche\n",
    "act_h3  = ''   # Unterepoche\n",
    "act_h4  = ''   # Unter-Unterepoche\n",
    "\n",
    "old_h2  = ''\n",
    "old_h3  = ''\n",
    "old_h4  = ''\n",
    "\n",
    "\n",
    "# lo == list of : event == philosopher\n",
    "lo_d_event_philosopher  = []\n",
    "d_event_philosopher     = new_d_event_philosopher()\n",
    "d_event_philosoph_cnt   = 0\n",
    "\n",
    "# cycle rows in table:\n",
    "for bs4_row in bs4_table.find_all('tr'):\n",
    "    # print (type(bs4_row))   # type == <class 'bs4.element.Tag'>\n",
    "    bs4_row_text = BeautifulSoup(bs4_row.get_text())  # get_text() == 'converts' type to string, sort of\n",
    "    row_cnt += 1\n",
    "    # https://stackoverflow.com/questions/13853025/is-there-a-way-in-beautiful-soup-to-count-the-number-of-tags-in-a-html-page\n",
    "    td_columns = len (bs4_row.find_all('td'))\n",
    "\n",
    "    # 1 column in row == Epoche / Unterepoche / Unter-Unterepoche == Headline of span\n",
    "    if (td_columns == 1):\n",
    "        if bs4_row.find_all('h2'):\n",
    "            try:\n",
    "                act_h2 = bs4_row.find_all('span', class_='mw-headline')[0].string\n",
    "                category = act_h2\n",
    "            except:  pass\n",
    "        elif bs4_row.find_all('h3'):\n",
    "            try:\n",
    "                act_h3 = bs4_row.find_all('span', class_='mw-headline')[0].string\n",
    "                category = act_h2 + ' - ' + act_h3\n",
    "            except: pass\n",
    "        elif bs4_row.find_all('h4'):\n",
    "            try:\n",
    "                act_h4 = bs4_row.find_all('span', class_='mw-headline')[0].string\n",
    "                category = act_h2  + ' - ' + act_h3  + ' - ' + act_h4\n",
    "            except: pass\n",
    "        # print ('category =  ', category)\n",
    "\n",
    "    elif (td_columns == 4) :\n",
    "        d_event_philosopher     = new_d_event_philosopher()\n",
    "        philosoph_lifespan      = None\n",
    "\n",
    "        # cycle 4 columns in row:  'Periode' / 'Philosoph' (Name) / 'Philosophie' (Thesen) / 'Allgemeine Geschichte'\n",
    "        for td_cnt, td_item in enumerate (bs4_row.find_all('td')):\n",
    "            if   (td_cnt == 0) and (td_item.string):                               #  'Periode'\n",
    "                philosoph_lifespan = adjust_philosoph_lifespan (td_item.string, d_event_philosopher)\n",
    "            elif (td_cnt == 1) and (td_item.a.string):                             #  'Philosoph' (Name)\n",
    "                philosopher_name = adjust_philosopher_name(td_item)\n",
    "                d_event_philosoph_cnt += 1\n",
    "                try:\n",
    "                    philosoph_lifespan = philosoph_lifespan.string.replace(\"\\n\", \" \")\n",
    "                except:\n",
    "                    philosoph_lifespan = '???? '\n",
    "            elif (td_cnt == 2) and (td_item):                                      #  'Philosophie' (Thesen)\n",
    "                philosopher_lo_theories = []\n",
    "                for li_cnt, li_item in enumerate (td_item.find_all('li')):\n",
    "                    philosopher_lo_theories.append(li_item.text)\n",
    "            elif (td_cnt == 3) and (td_item):                                      #  'Allgemeine Geschichte'\n",
    "                # philosopher_lo_history = td_item.text\n",
    "                philosopher_lo_history = []\n",
    "                for li_cnt, li_item in enumerate (td_item.find_all('li')):\n",
    "                    philosopher_lo_history.append(li_item.text)\n",
    "\n",
    "                line_new = '{:>35}      {}    {}  '.format(philosoph_lifespan, philosopher_name, philosopher_lo_theories)\n",
    "                # print (d_event_philosoph_cnt, ': ', line_new)\n",
    "\n",
    "                # philosopher.lifespan = philosoph_lifespan\n",
    "\n",
    "\n",
    "    # lo_d_event_philosopher.append(philosopher)\n",
    "\n"
   ]
  }
 ],
 "metadata": {
  "kernelspec": {
   "display_name": "Python 3",
   "language": "python",
   "name": "python3"
  },
  "language_info": {
   "codemirror_mode": {
    "name": "ipython",
    "version": 3
   },
   "file_extension": ".py",
   "mimetype": "text/x-python",
   "name": "python",
   "nbconvert_exporter": "python",
   "pygments_lexer": "ipython3",
   "version": "3.8.8"
  }
 },
 "nbformat": 4,
 "nbformat_minor": 2
}