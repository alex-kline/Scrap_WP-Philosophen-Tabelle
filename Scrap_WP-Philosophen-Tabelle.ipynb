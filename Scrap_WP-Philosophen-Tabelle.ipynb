{
 "cells": [
  {
   "cell_type": "code",
   "execution_count": 1,
   "metadata": {},
   "outputs": [],
   "source": [
    "# Extrahiere Tabelle / Philosophennamen aus:\n",
    "# https://de.wikipedia.org/wiki/Zeittafel_zur_Philosophiegeschichte\n",
    "#\n",
    "# Mozilla Firefox shortcuts\n",
    "# \n",
    "# \n",
    "# Jupyter Shortcuts: 'H'\n",
    "#\n",
    "# https://www.tutorialspoint.com/python_web_scraping/python_modules_for_web_scraping.htm\n",
    "# https://www.freecodecamp.org/news/how-to-scrape-websites-with-python-2/\n",
    "# https://oxylabs.io/blog/python-web-scraping\n",
    "# https://www.freecodecamp.org/news/web-scraping-python-tutorial-how-to-scrape-data-from-a-website/\n",
    "# https://www.dataquest.io/blog/web-scraping-python-using-beautiful-soup/\n",
    "#\n",
    "# https://www.geeksforgeeks.org/parsing-tables-and-xml-with-beautifulsoup/\n",
    "# https://towardsdatascience.com/a-guide-to-scraping-html-tables-with-pandas-and-beautifulsoup-7fc24c331cf7\n",
    "#\n",
    "# https://stackoverflow.com/questions/52730839/how-do-i-change-notebookapp-iopub-data-rate-limit-for-jupyter\n",
    "#"
   ]
  },
  {
   "cell_type": "code",
   "execution_count": 2,
   "metadata": {},
   "outputs": [],
   "source": [
    "import colorama\n",
    "from colorama import Fore\n",
    "from colorama import Style\n",
    "import csv\n",
    "import locale\n",
    "import re\n",
    "import regex\n",
    "import requests\n",
    "import sys\n",
    "from bs4 import BeautifulSoup\n",
    "\n",
    "colorama.init()\n",
    "# sys.setdefaultencoding('UTF8')\n",
    "class bcolors:\n",
    "    HEADER = '\\033[95m'\n",
    "    OKBLUE = '\\033[94m'\n",
    "    OKCYAN = '\\033[96m'\n",
    "    OKGREEN = '\\033[92m'\n",
    "    WARNING = '\\033[93m'\n",
    "    FAIL = '\\033[91m'\n",
    "    ENDC = '\\033[0m'\n",
    "    BOLD = '\\033[1m'\n",
    "    UNDERLINE = '\\033[4m'\n"
   ]
  },
  {
   "cell_type": "code",
   "execution_count": 3,
   "metadata": {},
   "outputs": [
    {
     "name": "stdout",
     "output_type": "stream",
     "text": [
      "https://de.wikipedia.org/wiki/Zeittafel_zur_Philosophiegeschichte\n"
     ]
    }
   ],
   "source": [
    "web_page_address = \"https://de.wikipedia.org/wiki/Zeittafel_zur_Philosophiegeschichte\"\n",
    "print (web_page_address)"
   ]
  },
  {
   "cell_type": "code",
   "execution_count": 4,
   "metadata": {},
   "outputs": [
    {
     "name": "stdout",
     "output_type": "stream",
     "text": [
      "web_page = \t\t <Response [200]>\n",
      "web_page.status_code = \t 200\n"
     ]
    }
   ],
   "source": [
    "web_page = requests.get(web_page_address)\n",
    "print (\"web_page = \\t\\t\", web_page)\n",
    "print (\"web_page.status_code = \\t\", web_page.status_code)\n"
   ]
  },
  {
   "cell_type": "code",
   "execution_count": 5,
   "metadata": {},
   "outputs": [],
   "source": [
    "# print (\"web_page.content = \\t\", web_page.content)\n",
    "# from >timeline.xsd<\n",
    "# >add_*< keys are used internally\n",
    "event_fieldnames = (\"start\", \"end\", \"text\", \"progress\", \"fuzzy\", \"locked\", \"ends_today\", \"category\", \"description\", \"hyperlink\", \"alert\", \"icon\", \"default_color\", \"milestone\")\n",
    "\n",
    "additional_event_fieldnames = (\"add_start_vCh\", \"add_end_vCh\", \"add_start_end_ok\", \"add_mods\", \"add_ok\")\n",
    "\n",
    "extended_event_fieldnames = []\n",
    "for item in event_fieldnames:\n",
    "    extended_event_fieldnames.append(item)\n",
    "for item in additional_event_fieldnames:\n",
    "    extended_event_fieldnames.append(item)\n",
    "extended_event_fieldnames = tuple(extended_event_fieldnames)\n",
    "\n",
    "# https://stackoverflow.com/questions/16730339/python-add-item-to-the-tuple\n",
    "def csv_event_file_header_get():\n",
    "    event_header = []\n",
    "    for item in event_fieldnames:\n",
    "        event_header.append(item)\n",
    "    event_header = tuple(event_header)\n",
    "    return event_header\n"
   ]
  },
  {
   "cell_type": "code",
   "execution_count": 6,
   "metadata": {},
   "outputs": [],
   "source": [
    "soup = BeautifulSoup(web_page.content, 'html.parser')\n",
    "# print(soup.prettify())"
   ]
  },
  {
   "cell_type": "code",
   "execution_count": 7,
   "metadata": {},
   "outputs": [],
   "source": [
    "bs4_table = soup.find('table', class_='wikitable toptextcells')\n",
    "# print (type(bs4_table))"
   ]
  },
  {
   "cell_type": "code",
   "execution_count": 8,
   "outputs": [],
   "source": [
    "def test_write_csv_with_header_file():\n",
    "    fn = 'csv_tst.csv'\n",
    "    # with open(sys.argv[1], 'wt') as f:\n",
    "    with open(fn, 'wt') as f:\n",
    "        writer = csv.writer(f)\n",
    "        csv_event_file_header = csv_event_file_header_get()\n",
    "        writer.writerow(csv_event_file_header)\n",
    "        for i in range(8):\n",
    "            row = []\n",
    "            for i in range(len(csv_event_file_header)):\n",
    "                row.append(str(i))\n",
    "            row = tuple(row)\n",
    "            writer.writerow(row )\n",
    "\n",
    "    # print(open(sys.argv[1], 'rt').read())    pass\n",
    "    print (' -------------------')\n",
    "    # print(open(fn, 'rt').read())"
   ],
   "metadata": {
    "collapsed": false,
    "pycharm": {
     "name": "#%%\n"
    }
   }
  },
  {
   "cell_type": "code",
   "execution_count": 9,
   "outputs": [
    {
     "name": "stdout",
     "output_type": "stream",
     "text": [
      " -------------------\n"
     ]
    }
   ],
   "source": [
    "test_write_csv_with_header_file()"
   ],
   "metadata": {
    "collapsed": false,
    "pycharm": {
     "name": "#%%\n"
    }
   }
  },
  {
   "cell_type": "code",
   "execution_count": 10,
   "outputs": [],
   "source": [
    "def csv_event_make():\n",
    "    pass"
   ],
   "metadata": {
    "collapsed": false,
    "pycharm": {
     "name": "#%%\n"
    }
   }
  },
  {
   "cell_type": "code",
   "execution_count": 11,
   "outputs": [],
   "source": [
    "def new_d_event_philosopher():\n",
    "    # return dictionary with keys according to event_fieldnames in >timeline.xsd<\n",
    "    # all values are preset = ''\n",
    "    d_event_philosopher = {}\n",
    "    for cnt, event_fieldname in enumerate (extended_event_fieldnames):\n",
    "        d_event_philosopher[event_fieldname] = ''\n",
    "    # d_event_philosopher[\"start\"] = '*'\n",
    "    # d_event_philosopher[\"end\"] = '*'\n",
    "    return d_event_philosopher"
   ],
   "metadata": {
    "collapsed": false,
    "pycharm": {
     "name": "#%%\n"
    }
   }
  },
  {
   "cell_type": "code",
   "execution_count": 12,
   "outputs": [],
   "source": [
    "def adjust_philosopher_name(td_item):\n",
    "    philosopher_name = '?'\n",
    "    if td_item.a:\n",
    "        philosoph_full_name = td_item.a.string                 # Name\n",
    "        if ( ' von ' in philosoph_full_name) or  ( ' der ' in philosoph_full_name):\n",
    "            philosopher_name = philosoph_full_name\n",
    "        else:\n",
    "            philosopher_name = philosoph_full_name.split(' ')[-1]\n",
    "            if philosoph_full_name.split(' ')[:-1]:\n",
    "                philosopher_name = philosopher_name + ', '\n",
    "            for ele in philosoph_full_name.split(' ')[:-1]:\n",
    "                philosopher_name = philosopher_name + ele + ' '\n",
    "    return philosopher_name"
   ],
   "metadata": {
    "collapsed": false,
    "pycharm": {
     "name": "#%%\n"
    }
   }
  },
  {
   "cell_type": "code",
   "execution_count": 13,
   "outputs": [],
   "source": [
    "def check_lifespan_era(philosoph_lifespan, d_event_philosopher):\n",
    "    # eruiert ob vor oder nach Christus\n",
    "    # setzt entsprechende Felder im dict >d_event_philosopher<\n",
    "\n",
    "    # vor_Chr  = re.search('v\\. Chr\\.', philosoph_lifespan)\n",
    "    philosoph_lifespan_org = philosoph_lifespan\n",
    "    vor_Chr_str = 'v\\. Chr\\.'\n",
    "    vor_Chr  = re.search(vor_Chr_str, philosoph_lifespan)\n",
    "\n",
    "    # nach_Chr = re.search('n\\. Chr\\.', philosoph_lifespan)\n",
    "    nach_Chr_str = 'n\\. Chr\\.'\n",
    "    nach_Chr = re.search(nach_Chr_str, philosoph_lifespan)\n",
    "\n",
    "    if vor_Chr and nach_Chr:\n",
    "        d_event_philosopher['add_start_vCh'] = 'True'\n",
    "        philosoph_lifespan = re.sub(vor_Chr_str, \"\", philosoph_lifespan).strip()\n",
    "        d_event_philosopher['add_end_vCh']   = 'False'\n",
    "        philosoph_lifespan = re.sub(nach_Chr_str, \"\", philosoph_lifespan).strip()\n",
    "        d_event_philosopher['add_mods'] += 'vor_Chr and nach_Chr'\n",
    "        # print ('check_lifespan_era (vor_Chr and nach_Chr): vorher', philosoph_lifespan_org, ':  -->>  : > ', philosoph_lifespan)\n",
    "    elif (len(re.findall('v\\. Chr\\.', philosoph_lifespan)) >= 1):\n",
    "        d_event_philosopher['add_start_vCh'] = 'True'\n",
    "        philosoph_lifespan = re.sub(vor_Chr_str, \"\", philosoph_lifespan).strip()\n",
    "        d_event_philosopher['add_end_vCh']   = 'True'\n",
    "        philosoph_lifespan = re.sub(vor_Chr_str, \"\", philosoph_lifespan).strip()\n",
    "        d_event_philosopher['add_mods'] += 'vor_Chr'\n",
    "        # print ('check_lifespan_era (vor_Chr): vorher', philosoph_lifespan_org, ':  -->>  : > ', philosoph_lifespan)\n",
    "    return philosoph_lifespan, d_event_philosopher"
   ],
   "metadata": {
    "collapsed": false,
    "pycharm": {
     "name": "#%%\n"
    }
   }
  },
  {
   "cell_type": "code",
   "execution_count": 14,
   "outputs": [],
   "source": [
    "def modify_lifespan(substring, philosoph_lifespan, d_event_philosopher, comment):\n",
    "    # corrects string by deleting >substring< in string >philosoph_lifespan<\n",
    "    # ... if substring is present. (i.e. >n. Chr.<, >Jh.<, etc)\n",
    "    # Usually this means, that lifespan is not exactly known\n",
    "    # A correspondig flag ('fuzzy') is set.\n",
    "    # A 'comment' string is returned, to indicate the change.\n",
    "    found = re.search(substring, philosoph_lifespan)\n",
    "    if found:\n",
    "        comment += ', ' + substring\n",
    "        philosoph_lifespan = re.sub(substring, \"\", philosoph_lifespan).strip()\n",
    "        d_event_philosopher['add_mods'] = d_event_philosopher['add_mods']  + ', ' + substring\n",
    "    return philosoph_lifespan, d_event_philosopher, comment"
   ],
   "metadata": {
    "collapsed": false,
    "pycharm": {
     "name": "#%%\n"
    }
   }
  },
  {
   "cell_type": "code",
   "execution_count": 15,
   "outputs": [],
   "source": [
    "def vChr_set_negative(d_event_philosopher):\n",
    "    if ((d_event_philosopher['start'] != '?') and d_event_philosopher['add_start_vCh']):\n",
    "        d_event_philosopher['start'] = '-' + d_event_philosopher['start']\n",
    "    if ((d_event_philosopher['end'] != '?') and d_event_philosopher['add_end_vCh']):\n",
    "        d_event_philosopher['end'] = '-' + d_event_philosopher['end']\n",
    "    return d_event_philosopher"
   ],
   "metadata": {
    "collapsed": false,
    "pycharm": {
     "name": "#%%\n"
    }
   }
  },
  {
   "cell_type": "code",
   "execution_count": 36,
   "outputs": [],
   "source": [
    "cnt = 1\n",
    "def adjust_philosoph_lifespan (philosopher_lifespan, d_event_philosopher):\n",
    "    global cnt\n",
    "\n",
    "    d_event_philosopher['start'] = '?'\n",
    "    d_event_philosopher['end']   = '?'\n",
    "    d_event_philosopher['fuzzy'] = ''\n",
    "    comment = ''\n",
    "\n",
    "    philosopher_lifespan = philosopher_lifespan.strip()\n",
    "    p_l_span_org         = philosopher_lifespan\n",
    "\n",
    "    philosopher_lifespan, d_event_philosopher = check_lifespan_era(philosopher_lifespan, d_event_philosopher)\n",
    "\n",
    "    if (\"bis\" in philosopher_lifespan):\n",
    "        philosopher_lifespan = philosopher_lifespan.replace(\"bis\", \"-\")\n",
    "        d_event_philosopher['add_mods'] = d_event_philosopher['add_mods']  + 'bis'\n",
    "\n",
    "    substrings = [u\"um\", u\"vor\", u\"† nach\", u\"†\", u\"unsicher\", \"\\*\", u\"Jh\\.\", u\"Jahrhundert\" ]\n",
    "    for substring in substrings:\n",
    "        philosopher_lifespan, d_event_philosopher, comment = \\\n",
    "            modify_lifespan(substring, philosopher_lifespan, d_event_philosopher, comment)\n",
    "\n",
    "    add_mods = d_event_philosopher['add_mods']\n",
    "    if (u\"um\" in add_mods) or (u\"vor\" in add_mods) :\n",
    "        d_event_philosopher['fuzzy']   = 'True'\n",
    "\n",
    "    philosopher_lifespan = philosopher_lifespan.strip()\n",
    "\n",
    "    # \"^YYYY\"  Stringanfang == Zeilenanfang\n",
    "    search_substring_Y = u\"^\\d{1,2}\\.\"\n",
    "    if (u\"Jh\\.\" in add_mods) or (u\"Jahrhundert\" in add_mods) :\n",
    "        substring = search_substring_Y\n",
    "        if regex.match(substring, philosopher_lifespan):\n",
    "            years = regex.search(u\"^\\d{1,4}\", philosopher_lifespan)\n",
    "            if years:\n",
    "                try:\n",
    "                    d_event_philosopher['start'] = str(int(years[0]) * 100)\n",
    "                    d_event_philosopher['fuzzy']   = 'True'\n",
    "                except:\n",
    "                    pass\n",
    "\n",
    "    philosopher_lifespan = philosopher_lifespan.strip()\n",
    "\n",
    "    search_substring_from_Y_to_Y = u\"\\d{1,4}–\\d{1,4}$\"\n",
    "    search_substring_Y = u\"\\d{1,4}$\"\n",
    "\n",
    "    substring = search_substring_from_Y_to_Y\n",
    "    if regex.match(substring, philosopher_lifespan):\n",
    "        years = regex.findall(u\"\\d{1,4}\", philosopher_lifespan)\n",
    "        d_event_philosopher['start']    = years[0]\n",
    "        d_event_philosopher['end']      = years[1]\n",
    "        d_event_philosopher['add_ok']   = 'ok'\n",
    "        d_event_philosopher['add_mods'] += ', ' + substring\n",
    "        comment += u\", \" + substring\n",
    "    else:\n",
    "        substring = search_substring_Y\n",
    "        if regex.search(substring, philosopher_lifespan):\n",
    "            years = regex.findall(u\"\\d{1,4}\", philosopher_lifespan)\n",
    "            if u'†' in d_event_philosopher['add_mods']:\n",
    "                d_event_philosopher['end']   = years[0]\n",
    "                d_event_philosopher['add_ok']   = 'ok'\n",
    "            else:\n",
    "                d_event_philosopher['start'] = years[0]\n",
    "                if u'*' in d_event_philosopher['add_mods']:\n",
    "                    d_event_philosopher['end']   = 'alive'\n",
    "                    d_event_philosopher['add_ok']   = 'ok'\n",
    "        d_event_philosopher['add_mods'] = d_event_philosopher['add_mods']  + ', ' + substring\n",
    "        comment += u\", \" + substring\n",
    "\n",
    "    # vor_Chr => \"YYYY\" -> \"-YYYY\"\n",
    "    d_event_philosopher = vChr_set_negative(d_event_philosopher)\n",
    "\n",
    "    # d_event_philosopher['fuzzy']  == um YYYY\n",
    "    if d_event_philosopher['fuzzy'] == 'True':\n",
    "        if search_substring_from_Y_to_Y in d_event_philosopher['add_mods']:\n",
    "            pass\n",
    "        elif search_substring_Y in d_event_philosopher['add_mods']:\n",
    "            # i.e. nur Todesjahr\n",
    "            try:\n",
    "                akme = int (d_event_philosopher['start'])\n",
    "                d_event_philosopher['start'] = str(akme - 50)\n",
    "                d_event_philosopher['end'] = str(akme + 15)\n",
    "                d_event_philosopher['add_ok']   = 'ok'\n",
    "            except:\n",
    "                pass\n",
    "\n",
    "    ph_lifespan = philosopher_lifespan\n",
    "    # if ((d_event_philosopher['start'] == '?') or (d_event_philosopher['end'] == '?')):\n",
    "    # if (d_event_philosopher['add_ok']   != 'ok'):\n",
    "    # if (d_event_philosopher['fuzzy']   != 'True'):\n",
    "    # if (d_event_philosopher['fuzzy']   != 'True'):\n",
    "    if (u\"Jh\\.\" in add_mods) or (u\"Jahrhundert\" in add_mods) :\n",
    "        print ('>{:3d}: '.format(cnt), '{:25}'.format(p_l_span_org), '=>', '{:25}'.format(ph_lifespan) , ' :: '     ,\\\n",
    "               '{:6}'.format(d_event_philosopher['start'])        , '{:6}'.format(d_event_philosopher['end']), ' | ' ,\\\n",
    "               '{:6}'.format(d_event_philosopher['add_start_vCh']), '{:6}'.format(d_event_philosopher['add_end_vCh']), ' | ',\\\n",
    "               '{:10}'.format(d_event_philosopher['fuzzy']))\n",
    "        # print ('   add_mods == >' + d_event_philosopher['add_mods'] + '<\\n')\n",
    "        # print(Fore.YELLOW + \"This is the color of the sun\" + Style.RESET_ALL)\n",
    "        # print(f\"{bcolors.WARNING}\n",
    "        cnt = cnt + 1\n",
    "    return philosopher_lifespan, d_event_philosopher['fuzzy']"
   ],
   "metadata": {
    "collapsed": false,
    "pycharm": {
     "name": "#%%\n"
    }
   }
  },
  {
   "cell_type": "code",
   "execution_count": 37,
   "metadata": {
    "pycharm": {
     "name": "#%%\n"
    }
   },
   "outputs": [
    {
     "name": "stdout",
     "output_type": "stream",
     "text": [
      ">  1:  5. Jh. v. Chr.            => 5.                         ::  -550   -485    |  True   True    |  True      \n",
      ">  2:  5.–4. Jh. v. Chr.         => 5.–4.                      ::  -550   -485    |  True   True    |  True      \n",
      ">  3:  5. Jh. v. Chr.            => 5.                         ::  -550   -485    |  True   True    |  True      \n",
      ">  4:  unsicher (5. Jh.) v. Chr. => (5. )                      ::  ?      ?       |  True   True    |  True      \n",
      ">  5:  3. Jh. v. Chr.            => 3.                         ::  -350   -285    |  True   True    |  True      \n",
      ">  6:  4. Jh. v. Chr.            => 4.                         ::  -450   -385    |  True   True    |  True      \n",
      ">  7:  4.–3. Jh. v. Chr.         => 4.–3.                      ::  -450   -385    |  True   True    |  True      \n",
      ">  8:  4.–3. Jh. v. Chr.         => 4.–3.                      ::  -450   -385    |  True   True    |  True      \n",
      ">  9:  3. Jh. v. Chr.            => 3.                         ::  -350   -285    |  True   True    |  True      \n",
      "> 10:  1. Jh. v. Chr.            => 1.                         ::  -150   -85     |  True   True    |  True      \n",
      "> 11:  2. Jh. v. Chr.            => 2.                         ::  -250   -185    |  True   True    |  True      \n",
      "> 12:  2. oder 3. Jh. v. Chr.    => 2. oder 3.                 ::  -250   -185    |  True   True    |  True      \n",
      "> 13:  5. Jh. v. Chr.            => 5.                         ::  -550   -485    |  True   True    |  True      \n",
      "> 14:  2. Jh. v. Chr.            => 2.                         ::  -250   -185    |  True   True    |  True      \n",
      "> 15:  3. oder 2. Jh. v. Chr.    => 3. oder 2.                 ::  -350   -285    |  True   True    |  True      \n",
      "> 16:  1. Jh. v. Chr./1. Jh. n. Chr. => 1.  /1.                    ::  -150   -85     |  True   False   |  True      \n",
      "> 17:  1. Jh. v. Chr.            => 1.                         ::  -150   -85     |  True   True    |  True      \n",
      "> 18:  2. Jh.                    => 2.                         ::  150    215     |                 |  True      \n",
      "> 19:  2. Jh.                    => 2.                         ::  150    215     |                 |  True      \n",
      "> 20:  2. Jh.                    => 2.                         ::  150    215     |                 |  True      \n",
      "> 21:  5. Jh.                    => 5.                         ::  450    515     |                 |  True      \n",
      "> 22:  6. Jh.                    => 6.                         ::  550    615     |                 |  True      \n",
      "> 23:  6. Jahrhundert            => 6.                         ::  550    615     |                 |  True      \n",
      "> 24:  2. Jh.                    => 2.                         ::  150    215     |                 |  True      \n",
      "> 25:  7. Jh.                    => 7.                         ::  650    715     |                 |  True      \n",
      "> 26:  12. Jh.                   => 12.                        ::  1150   1215    |                 |  True      \n"
     ]
    }
   ],
   "source": [
    "row_cnt = 0\n",
    "\n",
    "act_h2  = ''   # Epoche\n",
    "act_h3  = ''   # Unterepoche\n",
    "act_h4  = ''   # Unter-Unterepoche\n",
    "\n",
    "old_h2  = ''\n",
    "old_h3  = ''\n",
    "old_h4  = ''\n",
    "\n",
    "# lo == list of : event == philosopher\n",
    "lo_d_event_philosopher  = []\n",
    "d_event_philosopher     = new_d_event_philosopher()\n",
    "d_event_philosoph_cnt   = 0\n",
    "\n",
    "# cycle rows in table:\n",
    "for bs4_row in bs4_table.find_all('tr'):\n",
    "    # print (type(bs4_row))   # type == <class 'bs4.element.Tag'>\n",
    "    bs4_row_text = BeautifulSoup(bs4_row.get_text())  # get_text() == 'converts' type to string, sort of\n",
    "    row_cnt += 1\n",
    "    # https://stackoverflow.com/questions/13853025/is-there-a-way-in-beautiful-soup-to-count-the-number-of-tags-in-a-html-page\n",
    "    td_columns = len (bs4_row.find_all('td'))\n",
    "\n",
    "    # 1 column in row == Epoche / Unterepoche / Unter-Unterepoche == Headline of span\n",
    "    if (td_columns == 1):\n",
    "        if bs4_row.find_all('h2'):\n",
    "            try:\n",
    "                act_h2 = bs4_row.find_all('span', class_='mw-headline')[0].string\n",
    "                category = act_h2\n",
    "            except:  pass\n",
    "        elif bs4_row.find_all('h3'):\n",
    "            try:\n",
    "                act_h3 = bs4_row.find_all('span', class_='mw-headline')[0].string\n",
    "                category = act_h2 + ' - ' + act_h3\n",
    "            except: pass\n",
    "        elif bs4_row.find_all('h4'):\n",
    "            try:\n",
    "                act_h4 = bs4_row.find_all('span', class_='mw-headline')[0].string\n",
    "                category = act_h2  + ' - ' + act_h3  + ' - ' + act_h4\n",
    "            except: pass\n",
    "        # print ('category =  ', category)\n",
    "\n",
    "    elif (td_columns == 4) :\n",
    "        d_event_philosopher     = new_d_event_philosopher()\n",
    "        philosoph_lifespan      = None\n",
    "\n",
    "        # cycle 4 columns in row:  'Periode' / 'Philosoph' (Name) / 'Philosophie' (Thesen) / 'Allgemeine Geschichte'\n",
    "        for td_cnt, td_item in enumerate (bs4_row.find_all('td')):\n",
    "            if   (td_cnt == 0) and (td_item.string):                               #  'Periode'\n",
    "                philosoph_lifespan = adjust_philosoph_lifespan (td_item.string, d_event_philosopher)\n",
    "            elif (td_cnt == 1) and (td_item.a.string):                             #  'Philosoph' (Name)\n",
    "                philosopher_name = adjust_philosopher_name(td_item)\n",
    "                d_event_philosoph_cnt += 1\n",
    "                try:\n",
    "                    philosoph_lifespan = philosoph_lifespan.string.replace(\"\\n\", \" \")\n",
    "                except:\n",
    "                    philosoph_lifespan = '???? '\n",
    "            elif (td_cnt == 2) and (td_item):                                      #  'Philosophie' (Thesen)\n",
    "                philosopher_lo_theories = []\n",
    "                for li_cnt, li_item in enumerate (td_item.find_all('li')):\n",
    "                    philosopher_lo_theories.append(li_item.text)\n",
    "            elif (td_cnt == 3) and (td_item):                                      #  'Allgemeine Geschichte'\n",
    "                # philosopher_lo_history = td_item.text\n",
    "                philosopher_lo_history = []\n",
    "                for li_cnt, li_item in enumerate (td_item.find_all('li')):\n",
    "                    philosopher_lo_history.append(li_item.text)\n",
    "\n",
    "                line_new  = '{:>35}      {}    {}  '.format(philosoph_lifespan, philosopher_name, philosopher_lo_theories)\n",
    "                # print (d_event_philosoph_cnt, ': ', line_new)\n",
    "\n",
    "                # philosopher.lifespan = philosoph_lifespan\n",
    "\n",
    "\n",
    "    # lo_d_event_philosopher.append(philosopher)\n",
    "\n"
   ]
  }
 ],
 "metadata": {
  "kernelspec": {
   "display_name": "Python 3",
   "language": "python",
   "name": "python3"
  },
  "language_info": {
   "codemirror_mode": {
    "name": "ipython",
    "version": 3
   },
   "file_extension": ".py",
   "mimetype": "text/x-python",
   "name": "python",
   "nbconvert_exporter": "python",
   "pygments_lexer": "ipython3",
   "version": "3.8.8"
  }
 },
 "nbformat": 4,
 "nbformat_minor": 2
}